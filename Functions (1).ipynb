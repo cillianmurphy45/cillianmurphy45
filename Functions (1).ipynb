{
 "cells": [
  {
   "cell_type": "markdown",
   "metadata": {
    "cell_id": "8523e4e2fac24e9b9d42b812c34fbef3",
    "deepnote_cell_type": "text-cell-p",
    "formattedRanges": []
   },
   "source": [
    "# This is a project I completed last year and got over 90% in"
   ]
  },
  {
   "cell_type": "markdown",
   "metadata": {},
   "source": [
    "We had to create a basic word predictor using a random book"
   ]
  },
  {
   "cell_type": "markdown",
   "metadata": {
    "cell_id": "524b1effe5dd4442a7af5bea6b81cb3a",
    "deepnote_cell_type": "text-cell-h1",
    "formattedRanges": []
   },
   "source": [
    "# Loading Book file in Function"
   ]
  },
  {
   "cell_type": "code",
   "execution_count": null,
   "metadata": {
    "cell_id": "cf035feda4f84d109a99bf0ef020c9ae",
    "deepnote_cell_type": "code",
    "deepnote_to_be_reexecuted": false,
    "execution_context_id": "2bdeeee2-ce5c-448d-9011-0ed77de5850b",
    "execution_millis": 3,
    "execution_start": 1731592377919,
    "source_hash": "f91a6069"
   },
   "outputs": [],
   "source": [
    "# this loads in the file \n",
    "def load_text(filename):\n",
    "    f = open(filename)\n",
    "    text = f.read()\n",
    "\n",
    "    f.close()\n",
    "\n",
    "    return text"
   ]
  },
  {
   "cell_type": "markdown",
   "metadata": {
    "cell_id": "b5f190aa3e2d4e54bba23c9985e42ef4",
    "deepnote_cell_type": "text-cell-h1",
    "formattedRanges": []
   },
   "source": [
    "# Clean text and get rid of upper case Function"
   ]
  },
  {
   "cell_type": "code",
   "execution_count": null,
   "metadata": {
    "cell_id": "12d5dd19e642475388c669b799b919d8",
    "deepnote_cell_type": "code",
    "deepnote_to_be_reexecuted": false,
    "execution_context_id": "2bdeeee2-ce5c-448d-9011-0ed77de5850b",
    "execution_millis": 0,
    "execution_start": 1731592377969,
    "source_hash": "487d88cb"
   },
   "outputs": [],
   "source": [
    "# this iterates through the words and takes a list of punctuation and replaces it with whatever charcter you would like \n",
    "def replace_chars( text, chars, replacement_chars):\n",
    "    for char in chars:\n",
    "        text = text.replace(char,replacement_chars)\n",
    "    return text"
   ]
  },
  {
   "cell_type": "code",
   "execution_count": null,
   "metadata": {
    "cell_id": "6c7b212852e14b55864ff36a3e97ea5c",
    "deepnote_cell_type": "code",
    "deepnote_to_be_reexecuted": false,
    "execution_context_id": "2bdeeee2-ce5c-448d-9011-0ed77de5850b",
    "execution_millis": 2,
    "execution_start": 1731592378021,
    "source_hash": "6931af55"
   },
   "outputs": [],
   "source": [
    "txt = \"Here is some text, with some punctuation - that your function will want to remove!  But you probably don't want to remove apostrophies, do you?\"\n",
    "print (replace_chars( txt, \",-!\", ' ') )"
   ]
  },
  {
   "cell_type": "markdown",
   "metadata": {
    "cell_id": "e3a16b69872d45ad86f1c09b6a5543d5",
    "deepnote_cell_type": "text-cell-h1",
    "formattedRanges": []
   },
   "source": [
    "# Word Count"
   ]
  },
  {
   "cell_type": "code",
   "execution_count": null,
   "metadata": {
    "cell_id": "cf45ee959acf4a0ea96aa35ce5b3d059",
    "deepnote_cell_type": "code",
    "deepnote_to_be_reexecuted": false,
    "execution_context_id": "2bdeeee2-ce5c-448d-9011-0ed77de5850b",
    "execution_millis": 1,
    "execution_start": 1731592378072,
    "source_hash": "aa24be0d"
   },
   "outputs": [],
   "source": [
    "# this splits all the words into individual strings and lowers the text\n",
    "def create_word_list(text):\n",
    "    text = replace_chars(text, \"12345678910!%^&*-_?.,#[]{}”“\\\"'\" , ' ')\n",
    "    text = text.lower()\n",
    "    return(text.split())"
   ]
  },
  {
   "cell_type": "code",
   "execution_count": null,
   "metadata": {
    "cell_id": "29289cdab09c474c99dc72f8487b6ae5",
    "deepnote_cell_type": "code",
    "deepnote_to_be_reexecuted": false,
    "execution_context_id": "2bdeeee2-ce5c-448d-9011-0ed77de5850b",
    "execution_millis": 1,
    "execution_start": 1731592378120,
    "source_hash": "615227ca"
   },
   "outputs": [],
   "source": [
    "words = create_word_list(txt)\n",
    "print( words )"
   ]
  },
  {
   "cell_type": "code",
   "execution_count": null,
   "metadata": {
    "cell_id": "9fb5b19353134f63b047bcccafda725f",
    "deepnote_cell_type": "code",
    "deepnote_to_be_reexecuted": false,
    "execution_context_id": "2bdeeee2-ce5c-448d-9011-0ed77de5850b",
    "execution_millis": 0,
    "execution_start": 1731592378173,
    "source_hash": "c709d61a"
   },
   "outputs": [],
   "source": [
    "# this takes a empty dictionary iterates through all the words and either incrimints the count or leaves it the same \n",
    "def create_word_count(words):\n",
    "    word_count1 = {}\n",
    "    for word in words:\n",
    "        if word in word_count1:\n",
    "            word_count1[word]+= 1\n",
    "        else:\n",
    "            word_count1[word] = 1\n",
    "\n",
    "\n",
    "    return word_count1"
   ]
  },
  {
   "cell_type": "code",
   "execution_count": null,
   "metadata": {
    "cell_id": "24e95eeb67534b679383103a1681d809",
    "deepnote_cell_type": "code",
    "deepnote_to_be_reexecuted": false,
    "execution_context_id": "2bdeeee2-ce5c-448d-9011-0ed77de5850b",
    "execution_millis": 1,
    "execution_start": 1731592378220,
    "source_hash": "3a9bf831"
   },
   "outputs": [],
   "source": [
    "word_count = create_word_count(words)\n",
    "print( word_count ) "
   ]
  },
  {
   "cell_type": "code",
   "execution_count": null,
   "metadata": {
    "cell_id": "955b8994b1b543ad92e69026753a3241",
    "deepnote_cell_type": "code",
    "deepnote_to_be_reexecuted": false,
    "execution_context_id": "2bdeeee2-ce5c-448d-9011-0ed77de5850b",
    "execution_millis": 1,
    "execution_start": 1731592378272,
    "source_hash": "c93041c0"
   },
   "outputs": [],
   "source": [
    "# this gets the numerical element side of the word count \n",
    "def get_count(x):\n",
    "    return x[1]\n",
    "\n",
    "# this takes the word count dictionary and amount of numbers you want sorts the list iterates through the list and creates a dictionary called top which is the top whatever number has been inputted\n",
    "def print_top_words( word_count, top ):\n",
    "    sorted_list = sorted(list(word_count.items()), key=get_count,reverse=True)\n",
    "    for word_count in sorted_list[:top]:\n",
    "        word,count = word_count\n",
    "        print(f\"{word}:{count}\")"
   ]
  },
  {
   "cell_type": "code",
   "execution_count": null,
   "metadata": {
    "cell_id": "a54d56f8b5e84d038d26c3043080f075",
    "deepnote_cell_type": "code",
    "deepnote_to_be_reexecuted": false,
    "execution_context_id": "2bdeeee2-ce5c-448d-9011-0ed77de5850b",
    "execution_millis": 266,
    "execution_start": 1731592378320,
    "source_hash": "b01c7cfa"
   },
   "outputs": [],
   "source": [
    "text = load_text('book.txt')\n",
    "words = create_word_list(text)\n",
    "word_count = create_word_count(words)\n",
    "print_top_words(word_count, 50)"
   ]
  },
  {
   "cell_type": "markdown",
   "metadata": {
    "cell_id": "1c760f71768d4b4f8c446bb9fdb7ebaf",
    "deepnote_cell_type": "text-cell-h1",
    "formattedRanges": []
   },
   "source": [
    "# Bigrams"
   ]
  },
  {
   "cell_type": "code",
   "execution_count": null,
   "metadata": {
    "cell_id": "53d8fbb6cbeb43199a080cd87c7dbe2f",
    "deepnote_cell_type": "code",
    "deepnote_to_be_reexecuted": false,
    "execution_context_id": "2bdeeee2-ce5c-448d-9011-0ed77de5850b",
    "execution_millis": 1,
    "execution_start": 1731592378632,
    "source_hash": "363a8cf6"
   },
   "outputs": [],
   "source": [
    "def get_word(x):\n",
    "    return x[1]\n",
    "\n",
    "def create_bigrams( text ):\n",
    "    bigrams = {}\n",
    "    # cleaning text\n",
    "    text = load_text(\"book.txt\")\n",
    "    replace_chars(text, \"12345678910!%^&*-_?.,#[]{}”“\\\"'\" , ' ')\n",
    "    text = text.lower()\n",
    "    # splitting sentences using text.split to create a load of sentences from the dictionary as lists then iterate through each sentence and add a full stop to end of the sentence\n",
    "    sentences = text.split('.')\n",
    "    sentences = [sentence + ' . ' for sentence in sentences]\n",
    "    # iterate each word in sentences assigned to a variable which splits up all the sentences\n",
    "    for sentence in sentences:\n",
    "        words = sentence.split()\n",
    "        for x in range(len(words)-1):\n",
    "    # create variables that store the element and the one after\n",
    "            cur_word = words[x]\n",
    "            next_words = words[x + 1]\n",
    "    # if the word is not in the dict replace with empty bracket or incrimint the count of the word to the dictionary\n",
    "            if cur_word not in bigrams:\n",
    "                bigrams[cur_word] = {}\n",
    "    # if the words after the original words is not in the bigram dictionary of the original word dont add anything or if it is in the dictioanry of the original word add it to next word which is the dictioanry within the bigram list \n",
    "            if next_words not in bigrams[cur_word]:\n",
    "                bigrams[cur_word][next_words] = 1\n",
    "            else:\n",
    "                bigrams[cur_word][next_words] += 1\n",
    "    # ordered list of tuples \n",
    "    for key in bigrams:\n",
    "        bigrams[key] = sorted(list(bigrams[key].items()), key=get_word ,reverse=True)\n",
    "    return bigrams"
   ]
  },
  {
   "cell_type": "code",
   "execution_count": null,
   "metadata": {
    "cell_id": "11588427c2a0440b8fd0a28fd04bba87",
    "deepnote_cell_type": "code",
    "deepnote_to_be_reexecuted": false,
    "execution_context_id": "2bdeeee2-ce5c-448d-9011-0ed77de5850b",
    "execution_millis": 113,
    "execution_start": 1731592378680,
    "source_hash": "15361ad6"
   },
   "outputs": [],
   "source": [
    "bigrams = create_bigrams( text )"
   ]
  },
  {
   "cell_type": "code",
   "execution_count": null,
   "metadata": {
    "cell_id": "54e3299a7e6c4f72a431c250a6dc7274",
    "deepnote_cell_type": "code",
    "deepnote_to_be_reexecuted": false,
    "execution_context_id": "2bdeeee2-ce5c-448d-9011-0ed77de5850b",
    "execution_millis": 900820,
    "execution_start": 1731592378840,
    "source_hash": "fd7f5efe"
   },
   "outputs": [],
   "source": [
    "from random import randint\n",
    "WR = 15\n",
    "first_word = input(\"Enter in first word:\").lower()\n",
    "sentence = [first_word]\n",
    "while sentence[-1] != '.':\n",
    "    # check trigrams, then bigrams\n",
    "    options = bigrams[ sentence[-1] ]\n",
    "    sel = randint(0, len(options)-1) if len(options) < WR else randint(0,WR-1) \n",
    "    next = options[ sel ][0]\n",
    "    sentence.append( next )\n",
    "print( ' '.join(sentence) )"
   ]
  },
  {
   "cell_type": "markdown",
   "metadata": {
    "created_in_deepnote_cell": true,
    "deepnote_cell_type": "markdown"
   },
   "source": [
    "<a style='text-decoration:none;line-height:16px;display:flex;color:#5B5B62;padding:10px;justify-content:end;' href='https://deepnote.com?utm_source=created-in-deepnote-cell&projectId=d363459c-64a0-4021-be68-dca1e5d32ac9' target=\"_blank\">\n",
    "<img alt='Created in deepnote.com' style='display:inline;max-height:16px;margin:0px;margin-right:7.5px;' src='data:image/svg+xml;base64,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' > </img>\n",
    "Created in <span style='font-weight:600;margin-left:4px;'>Deepnote</span></a>"
   ]
  }
 ],
 "metadata": {
  "deepnote_notebook_id": "4cc2afad001d4df3866be8252ee440ce",
  "deepnote_persisted_session": {
   "createdAt": "2024-11-14T14:08:48.273Z"
  },
  "kernelspec": {
   "display_name": "Python 3",
   "language": "python",
   "name": "python3"
  },
  "language_info": {
   "codemirror_mode": {
    "name": "ipython",
    "version": 3
   },
   "file_extension": ".py",
   "mimetype": "text/x-python",
   "name": "python",
   "nbconvert_exporter": "python",
   "pygments_lexer": "ipython3",
   "version": "3.11.9"
  }
 },
 "nbformat": 4,
 "nbformat_minor": 0
}
