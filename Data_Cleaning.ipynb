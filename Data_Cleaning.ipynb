{
 "cells": [
  {
   "cell_type": "markdown",
   "metadata": {},
   "source": [
    "# CA1 Programming project, Cillian Murphy"
   ]
  },
  {
   "cell_type": "markdown",
   "metadata": {},
   "source": [
    "## <font color='blue'>Data Analysis</font>"
   ]
  },
  {
   "cell_type": "markdown",
   "metadata": {},
   "source": [
    "Loading Data and libraries\n"
   ]
  },
  {
   "cell_type": "code",
   "execution_count": 2,
   "metadata": {},
   "outputs": [],
   "source": [
    "import pandas as pd\n",
    "import matplotlib.pyplot as plt\n",
    "import numpy as np\n",
    "import seaborn as sns\n",
    "import re \n",
    "import unicodedata\n",
    "\n",
    "\n",
    "# Copy of original data\n",
    "original_data = pd.read_csv('manager_salary_survey.csv')\n",
    "\n",
    "# Data for analysation\n",
    "man_salary_data = pd.read_csv('manager_salary_survey.csv')    "
   ]
  },
  {
   "cell_type": "markdown",
   "metadata": {},
   "source": [
    "Renaming Columns\n"
   ]
  },
  {
   "cell_type": "code",
   "execution_count": 3,
   "metadata": {},
   "outputs": [
    {
     "data": {
      "text/html": [
       "<div>\n",
       "<style scoped>\n",
       "    .dataframe tbody tr th:only-of-type {\n",
       "        vertical-align: middle;\n",
       "    }\n",
       "\n",
       "    .dataframe tbody tr th {\n",
       "        vertical-align: top;\n",
       "    }\n",
       "\n",
       "    .dataframe thead th {\n",
       "        text-align: right;\n",
       "    }\n",
       "</style>\n",
       "<table border=\"1\" class=\"dataframe\">\n",
       "  <thead>\n",
       "    <tr style=\"text-align: right;\">\n",
       "      <th></th>\n",
       "      <th>timestamp</th>\n",
       "      <th>age</th>\n",
       "      <th>industry</th>\n",
       "      <th>job</th>\n",
       "      <th>add_job_context</th>\n",
       "      <th>salary</th>\n",
       "      <th>compensation</th>\n",
       "      <th>currency</th>\n",
       "      <th>other_currency</th>\n",
       "      <th>income_context</th>\n",
       "      <th>country</th>\n",
       "      <th>us_state</th>\n",
       "      <th>city</th>\n",
       "      <th>years_work_overall</th>\n",
       "      <th>years_work_in_field</th>\n",
       "      <th>education</th>\n",
       "      <th>gender</th>\n",
       "      <th>race</th>\n",
       "    </tr>\n",
       "  </thead>\n",
       "  <tbody>\n",
       "    <tr>\n",
       "      <th>0</th>\n",
       "      <td>4/27/2021 11:02:10</td>\n",
       "      <td>25-34</td>\n",
       "      <td>Education (Higher Education)</td>\n",
       "      <td>Research and Instruction Librarian</td>\n",
       "      <td>NaN</td>\n",
       "      <td>55,000</td>\n",
       "      <td>0.0</td>\n",
       "      <td>USD</td>\n",
       "      <td>NaN</td>\n",
       "      <td>NaN</td>\n",
       "      <td>United States</td>\n",
       "      <td>Massachusetts</td>\n",
       "      <td>Boston</td>\n",
       "      <td>5-7 years</td>\n",
       "      <td>5-7 years</td>\n",
       "      <td>Master's degree</td>\n",
       "      <td>Woman</td>\n",
       "      <td>White</td>\n",
       "    </tr>\n",
       "  </tbody>\n",
       "</table>\n",
       "</div>"
      ],
      "text/plain": [
       "            timestamp    age                      industry  \\\n",
       "0  4/27/2021 11:02:10  25-34  Education (Higher Education)   \n",
       "\n",
       "                                  job add_job_context  salary  compensation  \\\n",
       "0  Research and Instruction Librarian             NaN  55,000           0.0   \n",
       "\n",
       "  currency other_currency income_context        country       us_state  \\\n",
       "0      USD            NaN            NaN  United States  Massachusetts   \n",
       "\n",
       "     city years_work_overall years_work_in_field        education gender  \\\n",
       "0  Boston          5-7 years           5-7 years  Master's degree  Woman   \n",
       "\n",
       "    race  \n",
       "0  White  "
      ]
     },
     "execution_count": 3,
     "metadata": {},
     "output_type": "execute_result"
    }
   ],
   "source": [
    "man_salary_data.columns = [\"timestamp\",\"age\",\"industry\",\"job\",\"add_job_context\",\"salary\",\"compensation\",\"currency\",\"other_currency\",\"income_context\",\"country\",\"us_state\",\"city\",\"years_work_overall\",\"years_work_in_field\",\"education\",\"gender\",\"race\"]\n",
    "man_salary_data.head(1)\n"
   ]
  },
  {
   "cell_type": "markdown",
   "metadata": {},
   "source": [
    "### 1. Examining dataset for form and format of data"
   ]
  },
  {
   "cell_type": "markdown",
   "metadata": {},
   "source": [
    "Overview of Data"
   ]
  },
  {
   "cell_type": "markdown",
   "metadata": {},
   "source": [
    "- From this code we can see the data has 27988 rows and 18 columns\n",
    "- We see that the data types are mostly objects with one exception being the additional_compensation column \n",
    "- Lastly we see at the moment the general stats models are not that useful to us as only the additional_compensation is analysable due to the data types at hand"
   ]
  },
  {
   "cell_type": "code",
   "execution_count": 4,
   "metadata": {},
   "outputs": [
    {
     "name": "stdout",
     "output_type": "stream",
     "text": [
      "<class 'pandas.core.frame.DataFrame'>\n",
      "RangeIndex: 27989 entries, 0 to 27988\n",
      "Data columns (total 18 columns):\n",
      " #   Column               Non-Null Count  Dtype  \n",
      "---  ------               --------------  -----  \n",
      " 0   timestamp            27989 non-null  object \n",
      " 1   age                  27989 non-null  object \n",
      " 2   industry             27917 non-null  object \n",
      " 3   job                  27989 non-null  object \n",
      " 4   add_job_context      7240 non-null   object \n",
      " 5   salary               27989 non-null  object \n",
      " 6   compensation         20719 non-null  float64\n",
      " 7   currency             27989 non-null  object \n",
      " 8   other_currency       197 non-null    object \n",
      " 9   income_context       3034 non-null   object \n",
      " 10  country              27989 non-null  object \n",
      " 11  us_state             22993 non-null  object \n",
      " 12  city                 27909 non-null  object \n",
      " 13  years_work_overall   27989 non-null  object \n",
      " 14  years_work_in_field  27989 non-null  object \n",
      " 15  education            27773 non-null  object \n",
      " 16  gender               27822 non-null  object \n",
      " 17  race                 27817 non-null  object \n",
      "dtypes: float64(1), object(17)\n",
      "memory usage: 3.8+ MB\n"
     ]
    },
    {
     "data": {
      "text/html": [
       "<div>\n",
       "<style scoped>\n",
       "    .dataframe tbody tr th:only-of-type {\n",
       "        vertical-align: middle;\n",
       "    }\n",
       "\n",
       "    .dataframe tbody tr th {\n",
       "        vertical-align: top;\n",
       "    }\n",
       "\n",
       "    .dataframe thead th {\n",
       "        text-align: right;\n",
       "    }\n",
       "</style>\n",
       "<table border=\"1\" class=\"dataframe\">\n",
       "  <thead>\n",
       "    <tr style=\"text-align: right;\">\n",
       "      <th></th>\n",
       "      <th>compensation</th>\n",
       "    </tr>\n",
       "  </thead>\n",
       "  <tbody>\n",
       "    <tr>\n",
       "      <th>count</th>\n",
       "      <td>2.071900e+04</td>\n",
       "    </tr>\n",
       "    <tr>\n",
       "      <th>mean</th>\n",
       "      <td>1.819127e+04</td>\n",
       "    </tr>\n",
       "    <tr>\n",
       "      <th>std</th>\n",
       "      <td>8.349982e+05</td>\n",
       "    </tr>\n",
       "    <tr>\n",
       "      <th>min</th>\n",
       "      <td>0.000000e+00</td>\n",
       "    </tr>\n",
       "    <tr>\n",
       "      <th>25%</th>\n",
       "      <td>0.000000e+00</td>\n",
       "    </tr>\n",
       "    <tr>\n",
       "      <th>50%</th>\n",
       "      <td>2.000000e+03</td>\n",
       "    </tr>\n",
       "    <tr>\n",
       "      <th>75%</th>\n",
       "      <td>1.000000e+04</td>\n",
       "    </tr>\n",
       "    <tr>\n",
       "      <th>max</th>\n",
       "      <td>1.200000e+08</td>\n",
       "    </tr>\n",
       "  </tbody>\n",
       "</table>\n",
       "</div>"
      ],
      "text/plain": [
       "       compensation\n",
       "count  2.071900e+04\n",
       "mean   1.819127e+04\n",
       "std    8.349982e+05\n",
       "min    0.000000e+00\n",
       "25%    0.000000e+00\n",
       "50%    2.000000e+03\n",
       "75%    1.000000e+04\n",
       "max    1.200000e+08"
      ]
     },
     "execution_count": 4,
     "metadata": {},
     "output_type": "execute_result"
    }
   ],
   "source": [
    "# Prints first few rows\n",
    "\n",
    "man_salary_data.head()\n",
    "\n",
    "# Summary of data\n",
    "\n",
    "man_salary_data.info()\n",
    "\n",
    "# General Statistical models\n",
    "\n",
    "man_salary_data.describe()\n",
    "\n",
    "\n"
   ]
  },
  {
   "cell_type": "markdown",
   "metadata": {},
   "source": [
    "### 2. Identifying missing/unentered data stats"
   ]
  },
  {
   "cell_type": "markdown",
   "metadata": {},
   "source": [
    "From this analysis we can see what columns have the highest amount of missing values."
   ]
  },
  {
   "cell_type": "code",
   "execution_count": 5,
   "metadata": {},
   "outputs": [
    {
     "data": {
      "text/plain": [
       "<Axes: >"
      ]
     },
     "execution_count": 5,
     "metadata": {},
     "output_type": "execute_result"
    },
    {
     "data": {
      "image/png": "[encoded data removed]",
      "text/plain": [
       "<Figure size 640x480 with 1 Axes>"
      ]
     },
     "metadata": {},
     "output_type": "display_data"
    }
   ],
   "source": [
    "# Getting total sum amount of missing data in each column \n",
    "def get_missing_data(data):\n",
    "    missing_data = data.isnull().sum()\n",
    "    # Returns columns where there is missing data\n",
    "    return missing_data[missing_data > 0]\n",
    "\n",
    "missing_data_greater_0 = get_missing_data(man_salary_data)\n",
    "\n",
    "# Plotting amount of null values in each column\n",
    "\n",
    "missing_data_greater_0.plot.bar(x=\"Column Name\", y=\"Amount of missing values\")"
   ]
  },
  {
   "cell_type": "markdown",
   "metadata": {},
   "source": [
    "### 3. Identifying any outliers for compensation\n",
    " Since compensation is the only numerical data at the moment I created a statistical function to get a closer look at the outlier data. It does have a lot of outliers which will skew the final analysis. It also has a big range between the outliers."
   ]
  },
  {
   "cell_type": "code",
   "execution_count": 6,
   "metadata": {},
   "outputs": [
    {
     "name": "stdout",
     "output_type": "stream",
     "text": [
      "number of outliers: 1980\n",
      "max outlier value: 120000000.0\n",
      "min outlier value: 25250.0\n"
     ]
    },
    {
     "data": {
      "text/plain": [
       "40       50000.0\n",
       "47       40000.0\n",
       "91       60000.0\n",
       "152      30000.0\n",
       "217      30000.0\n",
       "          ...   \n",
       "27784    28000.0\n",
       "27821    60000.0\n",
       "27860    32000.0\n",
       "27898    50000.0\n",
       "27915    30000.0\n",
       "Name: compensation, Length: 1980, dtype: float64"
      ]
     },
     "execution_count": 6,
     "metadata": {},
     "output_type": "execute_result"
    }
   ],
   "source": [
    "def find_outliers(data):\n",
    "    # First Quantile\n",
    "    q1 = data.quantile(0.25)\n",
    "    # Third Quantile\n",
    "    q3 = data.quantile(0.75)\n",
    "    # IQR equals third minus the first quantile hence the below equation\n",
    "    IQR = q3 - q1 \n",
    "    # Locates the data outside of these two quantiles and returns outliers\n",
    "    outliers = data[((data<(q1-1.5*IQR)) | (data>(q3+1.5*IQR)))]\n",
    "    return outliers\n",
    "\n",
    "outliers = find_outliers(man_salary_data[\"compensation\"])\n",
    "\n",
    "# Finds number of outliers and converts to string as cannot find length using int object\n",
    "print(\"number of outliers: \"+ str(len(outliers)))\n",
    "\n",
    "print(\"max outlier value: \"+ str(outliers.max()))\n",
    "\n",
    "print(\"min outlier value: \"+ str(outliers.min()))\n",
    "\n",
    "outliers"
   ]
  },
  {
   "cell_type": "markdown",
   "metadata": {},
   "source": [
    "### 4. Finding unique values in the non-numeric data and understanding what has to be done for each column\n",
    " Since the remaining columns are non-numeric I am using the value counts function. This will help me see how many unique values we have in each dataset, meaning I can get a better understanding on what engineering needs to be done to each column so I can then create a common value."
   ]
  },
  {
   "cell_type": "markdown",
   "metadata": {},
   "source": [
    "##### Currency Column: "
   ]
  },
  {
   "cell_type": "markdown",
   "metadata": {},
   "source": [
    "For this column I will create a currency converter to convert all columns to USD as this is the most common currency."
   ]
  },
  {
   "cell_type": "code",
   "execution_count": 7,
   "metadata": {},
   "outputs": [
    {
     "data": {
      "text/plain": [
       "<Axes: xlabel='currency'>"
      ]
     },
     "execution_count": 7,
     "metadata": {},
     "output_type": "execute_result"
    },
    {
     "data": {
      "image/png": "[encoded data removed]",
      "text/plain": [
       "<Figure size 640x480 with 1 Axes>"
      ]
     },
     "metadata": {},
     "output_type": "display_data"
    }
   ],
   "source": [
    "# Count of all currencies\n",
    "currency_col = man_salary_data.currency.value_counts() # 10 different Currencies including other currencies\n",
    "\n",
    "# Plotting the different currencies\n",
    "currency_col.plot.bar(x=\"Currency\", y=\"Amount\")\n",
    "\n"
   ]
  },
  {
   "cell_type": "markdown",
   "metadata": {},
   "source": [
    "##### Salary Column:"
   ]
  },
  {
   "cell_type": "markdown",
   "metadata": {},
   "source": [
    "This column at the moment is a mix of numeric and non-numeric. Will convert this to numeric during data cleaning phase. There is 4290 different salaries. Once I convert all the rows to numeric there will be less as some rows are layed out like 00,000 and other rows are layed out like 00000. I will remove the , so all of the salary data looks the same."
   ]
  },
  {
   "cell_type": "code",
   "execution_count": 8,
   "metadata": {},
   "outputs": [
    {
     "data": {
      "text/plain": [
       "np.int64(0)"
      ]
     },
     "execution_count": 8,
     "metadata": {},
     "output_type": "execute_result"
    }
   ],
   "source": [
    "# Amount of different Salaries\n",
    "salary_col = man_salary_data.salary.value_counts() # 4290 different salaries\n",
    "salary_col.isnull().sum() # 0 null values\n",
    "\n"
   ]
  },
  {
   "cell_type": "markdown",
   "metadata": {},
   "source": [
    "##### Country Column:"
   ]
  },
  {
   "cell_type": "markdown",
   "metadata": {},
   "source": [
    "We have 369 Different Countries"
   ]
  },
  {
   "cell_type": "code",
   "execution_count": 9,
   "metadata": {},
   "outputs": [],
   "source": [
    "# All Countries column\n",
    "country_col = man_salary_data.country.value_counts() # 369 different countries\n",
    "\n",
    "# Finding any null values\n",
    "country_col_null = man_salary_data.country.isnull().sum() # 0 Null values\n",
    "\n"
   ]
  },
  {
   "cell_type": "markdown",
   "metadata": {},
   "source": [
    "We have 249 different non-America countries I found this by just taking the rows that have no US States as only rows in America have this row.\n",
    "Alltogether we have 4996 rows not accounted for outside of America"
   ]
  },
  {
   "cell_type": "code",
   "execution_count": 10,
   "metadata": {},
   "outputs": [],
   "source": [
    "# Non-American Countries\n",
    "null_state_rows_data = man_salary_data[man_salary_data[\"us_state\"].isnull()]\n",
    "\n",
    "# All countries where the us_state column is null\n",
    "null_state_rows = null_state_rows_data[\"country\"].value_counts()\n"
   ]
  },
  {
   "cell_type": "markdown",
   "metadata": {},
   "source": [
    "To further filter these rows I will use the currency column and relate that to the countries that use that currency. That way I can find common names for each country."
   ]
  },
  {
   "cell_type": "markdown",
   "metadata": {},
   "source": [
    "This shows the column for United States Dollars. "
   ]
  },
  {
   "cell_type": "code",
   "execution_count": 11,
   "metadata": {},
   "outputs": [],
   "source": [
    "# USD Countries\n",
    "usd_currency = man_salary_data[man_salary_data[\"currency\"] == \"USD\"]\n",
    "\n",
    "# Values count of the countries using the USD currency\n",
    "usd_countries = usd_currency[\"country\"].value_counts()"
   ]
  },
  {
   "cell_type": "markdown",
   "metadata": {},
   "source": [
    "This shows all countries that use Canadian dollars I will change all of these rows to just Canada"
   ]
  },
  {
   "cell_type": "code",
   "execution_count": 12,
   "metadata": {},
   "outputs": [],
   "source": [
    "# CAD Countries\n",
    "cad_currency = man_salary_data[man_salary_data[\"currency\"] == \"CAD\"]\n",
    "\n",
    "# Values count of the countries using the CAD currency\n",
    "cad_countries = cad_currency[\"country\"].value_counts()"
   ]
  },
  {
   "cell_type": "markdown",
   "metadata": {},
   "source": [
    "This shows all countries in the GBP column. These will all be changed to UK"
   ]
  },
  {
   "cell_type": "code",
   "execution_count": 13,
   "metadata": {},
   "outputs": [],
   "source": [
    "# GBP Countries\n",
    "gbp_currency = man_salary_data[man_salary_data[\"currency\"] == \"GBP\"]\n",
    "\n",
    "# Values count of the countries using the GBP currency\n",
    "gbp_countries = gbp_currency[\"country\"].value_counts()"
   ]
  },
  {
   "cell_type": "markdown",
   "metadata": {},
   "source": [
    "This shows the countries in the euro currency column. I will create common names for each country"
   ]
  },
  {
   "cell_type": "code",
   "execution_count": 14,
   "metadata": {},
   "outputs": [],
   "source": [
    "# European Countries column\n",
    "euro_currency = man_salary_data[man_salary_data[\"currency\"] == \"EUR\"]\n",
    "\n",
    "# Values count of the countries using the EUR currency\n",
    "euro_countries = euro_currency[\"country\"].value_counts()\n",
    "\n"
   ]
  },
  {
   "cell_type": "markdown",
   "metadata": {},
   "source": [
    "This shows all the countries that use AUD/NZD. This dataset has AUD and NZD as the same currency so I will use a median currency exchange between each currency to USD and convert the names to Australia or New Zealand."
   ]
  },
  {
   "cell_type": "code",
   "execution_count": 15,
   "metadata": {},
   "outputs": [],
   "source": [
    "# AUD/NZD currency countries\n",
    "aud_nzd_currency = man_salary_data[man_salary_data[\"currency\"] == \"AUD/NZD\"]\n",
    "\n",
    "# Values count of the countries using the AUD/NZD currencies\n",
    "aud_nzd_countries = aud_nzd_currency[\"country\"].value_counts()"
   ]
  },
  {
   "cell_type": "markdown",
   "metadata": {},
   "source": [
    "This shows all countries in the column of Swedish Krona. These will all be changed to Sweden"
   ]
  },
  {
   "cell_type": "code",
   "execution_count": 16,
   "metadata": {},
   "outputs": [],
   "source": [
    "# Swedish Krona Countries \n",
    "sek_currency = man_salary_data[man_salary_data[\"currency\"] == \"SEK\"]\n",
    "\n",
    "# Values count of the countries using the SEK currency\n",
    "sek_countries = sek_currency[\"country\"].value_counts()"
   ]
  },
  {
   "cell_type": "markdown",
   "metadata": {},
   "source": [
    "This shows all countries that use the JPY currency. These will be changed to Japan"
   ]
  },
  {
   "cell_type": "code",
   "execution_count": 17,
   "metadata": {},
   "outputs": [],
   "source": [
    "# JPY countries \n",
    "jpy_currency = man_salary_data[man_salary_data[\"currency\"] == \"JPY\"]\n",
    "\n",
    "# Values count of the countries using the JPY currency\n",
    "jpy_countries = jpy_currency[\"country\"].value_counts()"
   ]
  },
  {
   "cell_type": "markdown",
   "metadata": {},
   "source": [
    "We have 197 other currencies. I found some of the original currencies are also in this column. I will use these rows in the currency converter."
   ]
  },
  {
   "cell_type": "code",
   "execution_count": 18,
   "metadata": {},
   "outputs": [],
   "source": [
    "# Other currencies\n",
    "other = man_salary_data[\"other_currency\"].count() #197 other currencies\n",
    "other_currencies = man_salary_data[\"other_currency\"].value_counts()\n",
    "\n",
    "# Checking if any \"other currencies\" are listed in original currencies\n",
    "currency_list = (\"AUD\",\"NZD\",\"GBP\",\"USD\",\"CAD\",\"EUR\",\"CHF\",\"SEK\",\"JPY\",\"ZAR\",\"HKD\",\"AUD/NZD\")\n",
    "main_other_currencies = man_salary_data['other_currency'][man_salary_data['other_currency'].isin(currency_list)].value_counts()\n",
    "\n",
    "# Checking for amount of null values\n",
    "other_currencies_null = man_salary_data.other_currency.isnull().sum() # 27792 null rows"
   ]
  },
  {
   "cell_type": "markdown",
   "metadata": {},
   "source": [
    "This shows all countries using the ZAR currency. These will all be changed to South Africa"
   ]
  },
  {
   "cell_type": "code",
   "execution_count": 19,
   "metadata": {},
   "outputs": [],
   "source": [
    "# ZAR countries\n",
    "zar_currencies = man_salary_data[man_salary_data[\"currency\"] == \"ZAR\"]\n",
    "\n",
    "# Values count of the countries using the ZAR currency\n",
    "zar_countries = zar_currencies[\"country\"].value_counts()"
   ]
  },
  {
   "cell_type": "markdown",
   "metadata": {},
   "source": [
    "This shows all countries using the HKD currency these will all be changed to Hong Kong."
   ]
  },
  {
   "cell_type": "code",
   "execution_count": 20,
   "metadata": {},
   "outputs": [],
   "source": [
    "# Hong Kong Dollars Countries\n",
    "hkd_currencies = man_salary_data[man_salary_data[\"currency\"] == \"HKD\"]\n",
    "\n",
    "# Values count of the countries using the HKD currency\n",
    "hkd_countries = hkd_currencies[\"country\"].value_counts()\n"
   ]
  },
  {
   "cell_type": "markdown",
   "metadata": {},
   "source": [
    "This shows all countries using the CHF currency. These will be changed to Switzerland or Liechenstein. As CHF is only used there."
   ]
  },
  {
   "cell_type": "code",
   "execution_count": 21,
   "metadata": {},
   "outputs": [],
   "source": [
    "# CHF Currency\n",
    "chf_currency = man_salary_data[man_salary_data[\"currency\"] == \"CHF\"]\n",
    "\n",
    "# Values count of the countries using the CHF currency\n",
    "chf_countries = chf_currency[\"country\"].value_counts()"
   ]
  },
  {
   "cell_type": "markdown",
   "metadata": {},
   "source": [
    "##### State Column:"
   ]
  },
  {
   "cell_type": "markdown",
   "metadata": {},
   "source": [
    "There is almost 23,000 rows that have a state in that row meaning they have to be in America. I will convert all the country columns to America based off this data"
   ]
  },
  {
   "cell_type": "code",
   "execution_count": 22,
   "metadata": {},
   "outputs": [],
   "source": [
    "# Count of values in us state column\n",
    "state_col = man_salary_data.us_state.value_counts()\n",
    "\n",
    "# All rows that are in america\n",
    "not_null_state_row = man_salary_data[man_salary_data[\"us_state\"].notnull()]\n",
    "\n",
    "\n",
    "# Filtering state_col to show only the country\n",
    "state_null = not_null_state_row[\"country\"]"
   ]
  },
  {
   "cell_type": "markdown",
   "metadata": {},
   "source": [
    "##### Cities Column:"
   ]
  },
  {
   "cell_type": "markdown",
   "metadata": {},
   "source": [
    "We have almost 5000 different cities "
   ]
  },
  {
   "cell_type": "code",
   "execution_count": 23,
   "metadata": {},
   "outputs": [],
   "source": [
    "# Cities column\n",
    "city_col = man_salary_data.city.value_counts()\n"
   ]
  },
  {
   "cell_type": "markdown",
   "metadata": {},
   "source": [
    "##### Education Column:"
   ]
  },
  {
   "cell_type": "markdown",
   "metadata": {},
   "source": [
    "This column consists of 6 different education categories. I will convert each degree to a shortened version ie. College Degree to CD for easier analysis."
   ]
  },
  {
   "cell_type": "code",
   "execution_count": 24,
   "metadata": {},
   "outputs": [
    {
     "data": {
      "text/plain": [
       "<Axes: xlabel='education'>"
      ]
     },
     "execution_count": 24,
     "metadata": {},
     "output_type": "execute_result"
    },
    {
     "data": {
      "image/png": "[encoded data removed]",
      "text/plain": [
       "<Figure size 640x480 with 1 Axes>"
      ]
     },
     "metadata": {},
     "output_type": "display_data"
    }
   ],
   "source": [
    "# Education Column\n",
    "education_col = man_salary_data.education.value_counts()\n",
    "\n",
    "# Plotting education column\n",
    "education_col.plot.bar(x=\"Educcation Level\",y =\"Amount\")"
   ]
  },
  {
   "cell_type": "markdown",
   "metadata": {},
   "source": [
    "##### Gender Column:"
   ]
  },
  {
   "cell_type": "markdown",
   "metadata": {},
   "source": [
    "This column consists of 5 different gender categories. I will join the other/prefer not to answer rows."
   ]
  },
  {
   "cell_type": "code",
   "execution_count": 25,
   "metadata": {},
   "outputs": [
    {
     "data": {
      "image/png": "[encoded data removed]",
      "text/plain": [
       "<Figure size 640x480 with 1 Axes>"
      ]
     },
     "metadata": {},
     "output_type": "display_data"
    }
   ],
   "source": [
    "# Gender Column\n",
    "gender_col = man_salary_data.gender.value_counts()\n",
    "\n",
    "# Plotting gender column data\n",
    "gender_col.plot.bar(x= \"Gender\",y=\"Amount\")\n",
    "\n",
    "# Null values in the gender column\n",
    "gender_col_null = man_salary_data.gender.isnull().sum() #167 null rows"
   ]
  },
  {
   "cell_type": "markdown",
   "metadata": {},
   "source": [
    "##### Race Column:"
   ]
  },
  {
   "cell_type": "markdown",
   "metadata": {},
   "source": [
    "This column contains many different races for ease of analysis I will create 7 of the most frequent races: White, Asian, Black, Other, Hispanic,  NativeAmerican, MiddleEastern"
   ]
  },
  {
   "cell_type": "code",
   "execution_count": 26,
   "metadata": {},
   "outputs": [],
   "source": [
    "# Race Column\n",
    "race_col = man_salary_data.race.value_counts() # 48 different entries\n",
    "\n",
    "# Any null values in the race column\n",
    "race_col_null = man_salary_data.race.isnull().sum() # 172 null values"
   ]
  },
  {
   "cell_type": "markdown",
   "metadata": {},
   "source": [
    "##### Age Column:"
   ]
  },
  {
   "cell_type": "markdown",
   "metadata": {},
   "source": [
    "The age column has 7 seperate age groups I will number these 1-7 1 being the youngest 7 being the oldest"
   ]
  },
  {
   "cell_type": "code",
   "execution_count": 27,
   "metadata": {},
   "outputs": [
    {
     "data": {
      "text/plain": [
       "<Axes: xlabel='age'>"
      ]
     },
     "execution_count": 27,
     "metadata": {},
     "output_type": "execute_result"
    },
    {
     "data": {
      "image/png": "[encoded data removed]",
      "text/plain": [
       "<Figure size 640x480 with 1 Axes>"
      ]
     },
     "metadata": {},
     "output_type": "display_data"
    }
   ],
   "source": [
    "# Age Column\n",
    "age_col = man_salary_data.age.value_counts()\n",
    "\n",
    "# Plotting age column\n",
    "age_col.plot.bar(x=\"Age\",y=\"Amount\")"
   ]
  },
  {
   "cell_type": "markdown",
   "metadata": {},
   "source": [
    "##### Industry Column:"
   ]
  },
  {
   "cell_type": "markdown",
   "metadata": {},
   "source": [
    "There is 1216 seperate industries. I will create common names based off most popular industries"
   ]
  },
  {
   "cell_type": "code",
   "execution_count": 28,
   "metadata": {},
   "outputs": [],
   "source": [
    "# Industry Column\n",
    "industry_col = man_salary_data.industry.value_counts() # 1216 seperate industries"
   ]
  },
  {
   "cell_type": "markdown",
   "metadata": {},
   "source": [
    "##### Years worked overall column:"
   ]
  },
  {
   "cell_type": "markdown",
   "metadata": {},
   "source": [
    "This column has 8 seperate year groups so I will number these from 1-8 with 1 being the lowest and 8 being the highest"
   ]
  },
  {
   "cell_type": "code",
   "execution_count": 29,
   "metadata": {},
   "outputs": [],
   "source": [
    "# Years worked overall column\n",
    "years_overall_col = man_salary_data.years_work_overall.value_counts()"
   ]
  },
  {
   "cell_type": "markdown",
   "metadata": {},
   "source": [
    "##### Years worked in field column:"
   ]
  },
  {
   "cell_type": "markdown",
   "metadata": {},
   "source": [
    "I will repeat the same process for the years worked overall column here"
   ]
  },
  {
   "cell_type": "code",
   "execution_count": 30,
   "metadata": {},
   "outputs": [],
   "source": [
    "# Years worked in field column\n",
    "years_field_col = man_salary_data.years_work_in_field.value_counts()\n"
   ]
  },
  {
   "cell_type": "markdown",
   "metadata": {},
   "source": [
    "##### Jobs Column:"
   ]
  },
  {
   "cell_type": "markdown",
   "metadata": {},
   "source": [
    "There is 14,308 different job values"
   ]
  },
  {
   "cell_type": "code",
   "execution_count": 31,
   "metadata": {},
   "outputs": [],
   "source": [
    "# Jobs Column\n",
    "job_col = man_salary_data.job.value_counts()"
   ]
  },
  {
   "cell_type": "markdown",
   "metadata": {},
   "source": [
    "##### Income Context Column:"
   ]
  },
  {
   "cell_type": "markdown",
   "metadata": {},
   "source": [
    "We have 2971 different income contexts. This row has 24955 null values. Not much change can be done here."
   ]
  },
  {
   "cell_type": "code",
   "execution_count": 32,
   "metadata": {},
   "outputs": [],
   "source": [
    "# Income context column\n",
    "income_context_col = man_salary_data.income_context.value_counts() # 2971 entries\n",
    "\n",
    "# Null values within the income context column\n",
    "income_context_col_null = man_salary_data.income_context.isnull().sum() # 24955 entries"
   ]
  },
  {
   "cell_type": "markdown",
   "metadata": {},
   "source": [
    "##### Timestamp Column:"
   ]
  },
  {
   "cell_type": "markdown",
   "metadata": {},
   "source": [
    "There is 27989 entries here. This row is formatted in day/month/year. I will change this to just year"
   ]
  },
  {
   "cell_type": "code",
   "execution_count": 33,
   "metadata": {},
   "outputs": [],
   "source": [
    "# Timestamp Column\n",
    "timestamp_col = man_salary_data.timestamp"
   ]
  },
  {
   "cell_type": "markdown",
   "metadata": {},
   "source": [
    "##### Compensation Column:"
   ]
  },
  {
   "cell_type": "markdown",
   "metadata": {},
   "source": [
    "We can see that we have 7270 null values and 7929 0 values in the compensation column. I will convert all 0 values to null, use the currency conversion to get the whole column in usd."
   ]
  },
  {
   "cell_type": "code",
   "execution_count": 34,
   "metadata": {},
   "outputs": [],
   "source": [
    "# Compensation Column\n",
    "comp_col = man_salary_data[\"compensation\"]\n",
    "\n",
    "# Amount of null values\n",
    "null_comp = comp_col.isnull().sum() # 7270 null values\n",
    "\n",
    "# Amount of 0 values\n",
    "comp_zero = (comp_col == 0 ).sum() # 7929"
   ]
  },
  {
   "cell_type": "markdown",
   "metadata": {},
   "source": [
    "### 5. Finding duplicates\n",
    " We have no duplicates in any of the columns. We do not need to any feature engineering for this"
   ]
  },
  {
   "cell_type": "code",
   "execution_count": 35,
   "metadata": {},
   "outputs": [
    {
     "data": {
      "text/plain": [
       "timestamp                0\n",
       "age                      0\n",
       "industry                 0\n",
       "job                      0\n",
       "add_job_context          0\n",
       "salary                   0\n",
       "compensation           0.0\n",
       "currency                 0\n",
       "other_currency           0\n",
       "income_context           0\n",
       "country                  0\n",
       "us_state                 0\n",
       "city                     0\n",
       "years_work_overall       0\n",
       "years_work_in_field      0\n",
       "education                0\n",
       "gender                   0\n",
       "race                     0\n",
       "dtype: object"
      ]
     },
     "execution_count": 35,
     "metadata": {},
     "output_type": "execute_result"
    }
   ],
   "source": [
    "duplicates = man_salary_data.duplicated()\n",
    "man_salary_data[duplicates].sum()"
   ]
  },
  {
   "cell_type": "markdown",
   "metadata": {},
   "source": [
    "### Conclusion of analysis of the data manager_salary_survey:"
   ]
  },
  {
   "cell_type": "markdown",
   "metadata": {},
   "source": [
    "- The dataset has 27,989 rows and 18 columns\n",
    "- Columns are mostly type object apart from compensation which is type float\n",
    "- The currency column will all be converted to USD using a currency converter as seen above USD was the most common currency\n",
    "- For the salary column I will have to convert it all to USD and get rid of any special charachters so all data looks the same\n",
    "- For the country column I will use the currency column to create common names for all countries outside of America. For America I will use the states column to convert all different spellings of America to USA\n",
    "- For the other_currency column I will find any currencies from the main currencies column that may have been entered into the other currencies and convert them using the currency converter and also changing the name of those countries accordingly\n",
    "- For the Education column I will create shorter names for each level of Education for easier analysis\n",
    "- For the gender column I will change just the other or prefer not to answer option to a common other or prefer not to answer value\n",
    "- For the Race Column I will create common names for each race based of most frequent races\n",
    "- For age, years worked overall and years worked in field columns will all be changed from grouped to just numbers \n",
    "- For industry column I will create common names for most popular industries\n",
    "- For timestamp column I will format this so it just shows year rather than day/month/year\n"
   ]
  },
  {
   "cell_type": "markdown",
   "metadata": {},
   "source": [
    "# <font color='blue'>Data Cleaning</font>"
   ]
  },
  {
   "cell_type": "markdown",
   "metadata": {},
   "source": [
    "For the Data Cleaning process I will use a chain of resposibility pipeline to pass the data through and save it to a new csv file with the fully cleaned data ready for analysis!"
   ]
  },
  {
   "cell_type": "markdown",
   "metadata": {},
   "source": [
    "Why use chain of responsibility?\n",
    "This allows us to create a \"Handler class\" which will automatically pass a dataset through a list of different processes rather than rewriting that code for each individual part of the dataset"
   ]
  },
  {
   "cell_type": "markdown",
   "metadata": {},
   "source": [
    "Handler Class:"
   ]
  },
  {
   "cell_type": "code",
   "execution_count": 36,
   "metadata": {},
   "outputs": [],
   "source": [
    "class DataCleaner:\n",
    "    def __init__(self, next: 'DataCleaner' = None):  \n",
    "        ''' initialise the next handler reference'''\n",
    "        self.next = next\n",
    "        \n",
    "    def process(self, data):\n",
    "        ''' call process_task on the concrete class\n",
    "        then calls the next handler'''\n",
    "        self.process_task(data)\n",
    "        if self.next is not None:\n",
    "            self.next.process(data)\n",
    "    \n",
    "    def process_task(self, data):\n",
    "        ''' abstract method'''\n",
    "        pass\n",
    "    \n",
    "    def add_datacleaner(self, datacleaner):\n",
    "        '''Adds a new handler to the end of the chain '''\n",
    "        if self.next != None:\n",
    "            self.next.add_datacleaner(datacleaner)\n",
    "        else:\n",
    "            self.next = datacleaner"
   ]
  },
  {
   "cell_type": "markdown",
   "metadata": {},
   "source": [
    "This code is renaming the countries based off of their currency value in that row. I found USD columns that had no value in the state row so I had to use USD and state to get all of the data to USA."
   ]
  },
  {
   "cell_type": "code",
   "execution_count": 37,
   "metadata": {},
   "outputs": [],
   "source": [
    "# Renaming countries based off their currencies\n",
    "class RenameCountryValuesCurrency(DataCleaner):\n",
    "    def process_task(self, data):\n",
    "        # This finds the rows where us_state is not null and turns the country row to USA\n",
    "        data.loc[data['us_state'].notnull(), 'country'] = 'USA'\n",
    "        # These take the currency rows where it is = to a particular currency and changes them all to where that currency is used\n",
    "        data.loc[data[\"currency\"] == \"USD\", \"country\"] = \"USA\"\n",
    "        data.loc[data[\"currency\"] == \"CAD\", \"country\"] = \"Canada\"\n",
    "        data.loc[data[\"currency\"] == \"GBP\", \"country\"] = \"UK\"\n",
    "        data.loc[data[\"currency\"] == \"AUD/NZD\", \"country\"] = \"Australia/New Zealand\"\n",
    "        data.loc[data[\"currency\"] == \"CHF\", \"country\"] = \"Switzerland\"\n",
    "        data.loc[data[\"currency\"] == \"SEK\", \"country\"] = \"Sweden\"\n",
    "        data.loc[data[\"currency\"] == \"JPY\", \"country\"] = \"Japan\"\n",
    "        data.loc[data[\"currency\"] == \"ZAR\", \"country\"] = \"South Africa\"\n",
    "        data.loc[data[\"currency\"] == \"HKD\", \"country\"] = \"Hong Kong\"\n",
    "        data.loc[data[\"other_currency\"] == \"CAD\", \"country\"] = \"Canada\"\n",
    "        data.loc[data[\"other_currency\"] == \"USD\",\"country\"] = 'USA'\n",
    "        data.loc[data[\"other_currency\"] == \"GBP\", \"country\"] = \"UK\"\n",
    "        data.loc[data[\"other_currency\"] == \"AUD\", \"country\"] = \"Australia\"\n",
    "        data.loc[data[\"other_currency\"] == \"NZD\", \"country\"] = \"New Zealand\"\n",
    "        data.loc[data[\"other_currency\"] == \"CHF\", \"country\"] = \"Switzerland\"\n",
    "        data.loc[data[\"other_currency\"] == \"SEK\", \"country\"] = \"Sweden\"\n",
    "        data.loc[data[\"other_currency\"] == \"JPY\", \"country\"] = \"Japan\"\n",
    "        data.loc[data[\"other_currency\"] == \"ZAR\", \"country\"] = \"South Africa\"\n",
    "        data.loc[data[\"other_currency\"] == \"HKD\", \"country\"] = \"Hong Kong\"\n",
    "          \n",
    "\n",
    "        "
   ]
  },
  {
   "cell_type": "markdown",
   "metadata": {},
   "source": [
    "Since Euro is used in many different countries across Europe this means I can not apply a similar process with the currency. So I just found all of the different names for each country and created a common name for that country"
   ]
  },
  {
   "cell_type": "code",
   "execution_count": 38,
   "metadata": {},
   "outputs": [],
   "source": [
    "        \n",
    "class RenameCountryEuro(DataCleaner):\n",
    "        def process_task(self, data):\n",
    "            # This lowers all the names of the countries to lower case\n",
    "            data['country'] = data['country'].str.strip()\n",
    "            # This normalizes all words so there are no hidden letters \n",
    "            data['country'] = data['country'].apply(lambda x: unicodedata.normalize('NFKD', x))\n",
    "            Germany_data = {\"Germany\",\"germany\", \"Company in Germany. I work from Pakistan.\"}\n",
    "            # These loop through the different names of the country and changes the spelling so they are all the same\n",
    "            for ger in Germany_data:\n",
    "                data.loc[data[\"country\"] == ger, \"country\"] = \"Germany\"\n",
    "            ireland_data = {\"Ireland\",\"Ireland\",\"ireland\"}\n",
    "            for ire in ireland_data:\n",
    "                data.loc[data[\"country\"] == ire, \"country\"] = \"Ireland\"\n",
    "            France_data = {\"France\", \"FRANCE\",\"France\",\"france\"}\n",
    "            for fra in France_data:\n",
    "                data.loc[data[\"country\"] == fra, \"country\"] = \"France\"\n",
    "            Netherlands_data = {\"Netherlands\",\"The Netherlands\",\"Netherlands\",\"netherlands\",\"The Netherlands\",\"The netherlands\",\"the Netherlands\",\"Nederland\",\"NL\",\"the netherlands\"}\n",
    "            for net in Netherlands_data:\n",
    "                data.loc[data[\"country\"] == net, \"country\"] = \"Netherlands\"\n",
    "            Spain_data = {\"Spain\",\"Spain\",\"spain\"}\n",
    "            for sp in Spain_data:\n",
    "                data.loc[data[\"country\"] == sp, \"country\"] = \"Spain\"\n",
    "            Belgium_data = {\"Belgium\",\"Belgium\"}\n",
    "            for bel in Belgium_data:\n",
    "                data.loc[data[\"country\"] == bel, \"country\"] = \"Belgium\"\n",
    "            Austria_data = {\"Austria\",\"Austria, but I work remotely for a Dutch/British company\"}\n",
    "            for aus in Austria_data:\n",
    "                data.loc[data[\"country\"] == aus, \"country\"] = \"Austria\"\n",
    "            Finland_data = {\"Finland\",\"finland\"}\n",
    "            for fin in Finland_data:\n",
    "                data.loc[data[\"country\"] == fin, \"country\"] = \"Finland\"\n",
    "            Italy_data = {\"Italy\",\"Italy (South)\"}\n",
    "            for ita in Italy_data:\n",
    "                data.loc[data[\"country\"] == ita, \"country\"] = \"Italy\"\n",
    "            Denmark_data = {\"Denmark\",\"denmark\"}\n",
    "            for den in Denmark_data:\n",
    "                data.loc[data[\"country\"] == den, \"country\"] = \"Denmark\"\n",
    "            Luxembourg_data = {\"Luxembourg\", \"Luxemburg\"}\n",
    "            for lux in Luxembourg_data:\n",
    "                data.loc[data[\"country\"] == lux, \"country\"] = \"Luxembourg\"\n",
    "            UK_data = {\"UK\",\"Uk\",\"U.K.\"}\n",
    "            for uk in UK_data:\n",
    "                data.loc[data[\"country\"] == uk, \"country\"] = \"UK\"\n",
    "            usa_data = {\"United States of America\",\"USA\"}\n",
    "            for us in usa_data:\n",
    "                data.loc[data[\"country\"] == us, \"country\"] = \"USA\""
   ]
  },
  {
   "cell_type": "markdown",
   "metadata": {},
   "source": [
    "This code is renaming a couple different rows as the way I renamed them was quite similar so I grouped them together. We have the Age column where I just made a new value for each age group and same with the years worked. For the gender column I just created a common value for other/prefer not to answer. For Education I created abreviated names for easier understanding"
   ]
  },
  {
   "cell_type": "code",
   "execution_count": 39,
   "metadata": {},
   "outputs": [],
   "source": [
    "class RenameYearsAgeGenderEducation(DataCleaner):\n",
    "    def process_task(self, data):\n",
    "        # Same as above\n",
    "        def rename_age(data):\n",
    "            age_data = {\"under 18\":1,\"18-24\":2,\"25-34\":3,\"35-44\":4,\"45-54\":5,\"55-64\":6,\"65 or over\":7}\n",
    "            for age in age_data:\n",
    "                data.loc[data[\"age\"] == age, \"age\"] = age_data[age]\n",
    "        rename_age(data)\n",
    "\n",
    "        def years_col(data):\n",
    "            years_data = {\"1 year or less\": 1,\"2 - 4 years\": 2, \"5-7 years\": 3, \"8 - 10 years\": 4, \"11 - 20 years\": 5, \"21 - 30 years\": 6, \"31 - 40 years\": 7, \"41 years or more\": 8}\n",
    "            for years in years_data:\n",
    "                data.loc[data[\"years_work_in_field\"] == years, \"years_work_in_field\"] = years_data[years]\n",
    "                data.loc[data[\"years_work_overall\"] == years, \"years_work_overall\"] = years_data[years]\n",
    "        years_col(data)\n",
    "            \n",
    "        def rename_gender(data):\n",
    "            data.loc[data[\"gender\"] == \"Prefer not to answer\", \"gender\"] = \"Other or prefer not to answer\"\n",
    "        rename_gender(data)\n",
    "\n",
    "        def rename_edu(data):\n",
    "            data['education'] = data['education'].str.strip()\n",
    "            data['education'] = data['education'].str.lower()\n",
    "            data[\"education\"] = data[\"education\"].str.replace(\",\", \"\")\n",
    "            data[\"education\"] = data[\"education\"].str.replace(\".\", \"\")\n",
    "            data[\"education\"] = data[\"education\"].str.replace(\"'\", \"\")\n",
    "            data[\"education\"] = data[\"education\"].str.replace(\")\", \"\")\n",
    "            data[\"education\"] = data[\"education\"].str.replace(\"(\", \"\")\n",
    "            data[\"education\"] = data[\"education\"].str.replace(\" \", \"_\")\n",
    "        \n",
    "            edu_data = {\"college_degree\":\"CD\",\"masters_degree\":\"MD\",\"some_college\":\"SC\",\"professional_degree_md_jd_etc\":\"ProDeg\",\"high_school\":\"HS\"}\n",
    "            for edu in edu_data:\n",
    "                data.loc[data[\"education\"].str.contains(edu,na = False), \"education\"] = edu_data[edu]\n",
    "        rename_edu(data)\n",
    "\n"
   ]
  },
  {
   "cell_type": "markdown",
   "metadata": {},
   "source": [
    "This is my Currency Converter. The first part is just normalizing the punctuation of the salary column. I then created a dictionary for each of the main currencies and found the rows where the values equaled that currency and multiplied them by their respective currency exchange rate. I then changed all of their names to USD. I applied a similar process for compensation column and the other currencies column."
   ]
  },
  {
   "cell_type": "code",
   "execution_count": 40,
   "metadata": {},
   "outputs": [],
   "source": [
    "class CurrencyConverter(DataCleaner):\n",
    "    def process_task(self, data):\n",
    "        # Convert salary to numeric function\n",
    "                def convert_salary(data):\n",
    "                        data[\"salary\"] = data[\"salary\"].str.replace(\",\", \"\")\n",
    "                        data[\"salary\"] = data[\"salary\"].astype(int)\n",
    "\n",
    "                # Conversion rate for og currencies\n",
    "                def convert_to_usd(data):\n",
    "                        # Exchange Rate Dictionary\n",
    "                        exchange_rates = {\"CAD\":1.4, \"GBP\": 0.79, \"EUR\":0.94,\"AUD/NZD\": 1.62,\"CHF\": 0.88,\"SEK\": 10.91,\"JPY\":154.6, \"ZAR\": 17.94, \"AUD\": 1.54,\"NZD\": 1.7}\n",
    "                        # Looping through that dictionary and creating 2 different variables in the for loop to assign to each variable in the dictionary using .items()\n",
    "                        for exchange, rate in exchange_rates.items():\n",
    "                                # selecting the rows that contain the respective currencies and multiplying their exchange rates by their rows salary column\n",
    "                                data.loc[data[\"currency\"] == exchange, \"salary\"] = (data.loc[data[\"currency\"] == exchange, \"salary\"] * rate)\n",
    "\n",
    "                # Convert og currencies to USD\n",
    "                def convert_currency_usd(data):\n",
    "                        currencies = (\"CAD\", \"GBP\", \"EUR\", \"AUD/NZD\", \"CHF\", \"SEK\", \"JPY\", \"ZAR\",\"HKD\")\n",
    "                        data.loc[data[\"currency\"].isin(currencies), \"currency\"] = \"USD\"\n",
    "\n",
    "                # Convert other currency to usd\n",
    "                def convert_to_usd_other(data):\n",
    "                        exchange_rates = {\"CAD\":1.4, \"GBP\": 0.79, \"EUR\":0.94,\"AUD/NZD\": 1.62,\"CHF\": 0.88,\"SEK\": 10.91,\"JPY\":154.6, \"ZAR\": 17.94, \"AUD\": 1.54,\"NZD\": 1.7}\n",
    "                        for exchange, rate in exchange_rates.items():\n",
    "                                data.loc[data[\"other_currency\"] == exchange, \"salary\"] = (data.loc[data[\"other_currency\"] == exchange, \"salary\"] * rate)\n",
    "\n",
    "                # Convert other currencies to USD\n",
    "                def convert_other_currency_usd(data):\n",
    "                        oth_currencies = (\"CAD\", \"GBP\", \"EUR\", \"AUD/NZD\", \"CHF\", \"SEK\", \"JPY\", \"ZAR\",\"HKD\",\"AUD\",\"NZD\")\n",
    "                        data.loc[data[\"other_currency\"].isin(oth_currencies), \"other_currency\"] = \"USD\"\n",
    "\n",
    "\n",
    "                def comp_to_usd(data):\n",
    "                        exchange_rates = {\"CAD\":1.4, \"GBP\": 0.79, \"EUR\":0.94,\"AUD/NZD\": 1.62,\"CHF\": 0.88,\"SEK\": 10.91,\"JPY\":154.6, \"ZAR\": 17.94, \"AUD\": 1.54,\"NZD\": 1.7}\n",
    "                        for exchange, rate in exchange_rates.items():\n",
    "                                data.loc[data[\"currency\"] == exchange, \"compensation\"] = (data.loc[data[\"currency\"] == exchange, \"compensation\"] * rate)\n",
    "\n",
    "                convert_salary(data)\n",
    "                convert_to_usd(data)\n",
    "                comp_to_usd(data)\n",
    "                convert_currency_usd(data)\n",
    "                convert_to_usd_other(data)\n",
    "                convert_other_currency_usd(data)"
   ]
  },
  {
   "cell_type": "markdown",
   "metadata": {},
   "source": [
    "This creates a new csv file and writes all of the cleaned data into it."
   ]
  },
  {
   "cell_type": "code",
   "execution_count": 41,
   "metadata": {},
   "outputs": [],
   "source": [
    "class WriteToNewCSV(DataCleaner):\n",
    "    def process_task(self, data):\n",
    "        # writing cleaned data to new csv\n",
    "        return data.to_csv(\"manager_cleaned.csv\")"
   ]
  },
  {
   "cell_type": "markdown",
   "metadata": {},
   "source": [
    "This replaces all of the null and 0 values with zeros then replaces them all as null values. I also dropped additional job context and income context as I didnt feel they were necessary for analysis."
   ]
  },
  {
   "cell_type": "code",
   "execution_count": 42,
   "metadata": {},
   "outputs": [],
   "source": [
    "class FillNA(DataCleaner):\n",
    "    def process_task(self, data):\n",
    "        def fill_na_drop(data):\n",
    "            # Filling any null values in compensation with 0\n",
    "            data[\"compensation\"].fillna(0,inplace=True)\n",
    "            # Changing all 0 values to null\n",
    "            data[\"compensation\"].replace(0, np.nan, inplace=True)\n",
    "\n",
    "            # Dropping job context and income context\n",
    "            data.drop(columns=[\"add_job_context\",\"income_context\"],inplace = True)\n",
    "        fill_na_drop(data)\n"
   ]
  },
  {
   "cell_type": "markdown",
   "metadata": {},
   "source": [
    "This changes the timestamp to a datetime value, takes just the year part of the value and puts it to a new column called year. I also had to set the index to year so I could update the value inside of timestamp."
   ]
  },
  {
   "cell_type": "code",
   "execution_count": 43,
   "metadata": {},
   "outputs": [],
   "source": [
    "class ChangeTimestamp(DataCleaner):\n",
    "    def process_task(self, data):\n",
    "        # Turning timestamp to datetime type\n",
    "        data[\"timestamp\"] = pd.to_datetime(data[\"timestamp\"])\n",
    "        # Finding just the year of the row and creating a new column containing just the year\n",
    "        data['year'] = data['timestamp'].dt.strftime('%Y')\n",
    "        data.set_index(\"year\")\n"
   ]
  },
  {
   "cell_type": "markdown",
   "metadata": {},
   "source": [
    "I grouped all these renaming functions together as they were similar functions. I went through a lot of the cities column and created common names for those cities and normalized their punctuation too. I then applied a similar process to states, industries and race."
   ]
  },
  {
   "cell_type": "code",
   "execution_count": 44,
   "metadata": {},
   "outputs": [],
   "source": [
    "class RenameCols(DataCleaner):\n",
    "    def process_task(self, data):\n",
    "        def renamecities(data):\n",
    "            # Normalising all cities to same punctuation\n",
    "            data['city'] = data['city'].str.strip()\n",
    "            data['city'] = data['city'].str.lower()\n",
    "            data[\"city\"] = data[\"city\"].str.replace(\",\", \"\")\n",
    "            data[\"city\"] = data[\"city\"].str.replace(\".\", \"\")\n",
    "            data[\"city\"] = data[\"city\"].str.replace(\" \", \"_\")\n",
    "\n",
    "            city_data = {\"chicago\":\"chicago\",\"boston\":\"boston\",\"new_york\":\"nyc\",\"seattle\":\"seattle\",\"london\":\"london\",\"san_francisco\":\"san francisco\",\"los_angeles\":\"los angeles\",\"new_york_city\":\"nyc\",\"portland\":\"portland\",\"washington_dc\":\"washington\",\"toronto\":\"toronto\",\"minneapolis\":\"minneapolis\",\"atlanta\":\"atlanta\",\"philadelphia\":\"philadelphia\",\"denver\":\"denver\",\"houston\":\"houston\",\"pittsburgh\":\"pittsburgh\",\"vancouver\":\"vancouver\",\"dallas\":\"dallas\",\"cambridge\":\"cambridge\",\"columbus\":\"columbus\",\"madison\":\"madison\",\"san_diego\":\"san diego\",\"indianapolis\":\"indianapolis\",\"baltimore\":\"baltimore\",\"raleigh\":\"raleigh\",\"remote\":\"remote\",\"cleveland\":\"cleveland\",\"st_louis\":\"st louis\",\"richmond\":\"richmond\",\"ottawa\":\"ottawa\",\"phoenix\":\"phoenix\",\"dc\":\"washington\",\"arlington\":\"arlington\",\"nashville\":\"nashville\",\"durham\":\"durham\",\"melbourne\":\"milwaukee\",\"cincinnati\":\"cincinnati\",\"charlotte\":\"charlotte\",\"san_jose\":\"san jose\",\"sacramento\":\"sacramento\",\"detroit\":\"detroit\",\"salt_lake_city\":\"salt lake city\",\"rochester\":\"rochester\",\"oakland\":\"oakland\",\"kansas_city\":\"kansas city\",\"manchester\":\"manchester\",\"sydney\":\"sydney\",\"orlando\":\"orlando\",\"louisville\":\"louisville\",\"dublin\":\"dublin\",\"ann_arbor\":\"ann harbor\",\"alexandria\":\"alexandria\",\"st_paul\":\"st paul\",\"montreal\":\"montreal\",\"calgary\":\"calgary\",\"birmingham\":\"birmingham\",\"tampa\":\"tampa\",\"edmonton\":\"edmonton\",\"des_moines\":\"des moines\",\"columbia\":\"columbia\",\"boulder\":\"boulder\",\"tucson\":\"tucson\",\"san_antonio\":\"san antonio\",\"omaha\":\"omaha\",\"edinburgh\":\"edinburgh\",\"new_orleans\":\"new orleans\",\"irvine\":\"irvine\",\"albany\":\"albany\",\"grand_rapids\":\"grand rapids\",\"albuquerque\":\"albuquerque\",\"brooklyn\":\"brooklyn\",\"lexington\":\"lexington\",\"springfield\":\"springfield\",\"glasgow\":\"glasgow\",\"buffalo\":\"buffalo\",\"hartford\":\"hartford\",\"berlin\":\"berlin\",\"las_vegas\":\"las vegas\",\"jacksonville\":\"jacksonville\",\"rockville\":\"rockville\",\"oklahoma_city\":\"oklahoma_city\",\"leeds\":\"leeds\",\"saint_paul\":\"saint paul\",\"bristol\":\"bristol\",\"winnipeg\":\"winnipeg\",\"brisbane\":\"brisbane\",\"boise\":\"boise\",\"memphis\":\"memphis\",\"wellington\":\"wellington\",\"auckland\":\"auckland\",\"coloardo_springs\":\"colorado springs\",\"redmond\":\"redmond\",\"bloomington\":\"bloomington\",\"burlington\":\"burlington\",\"halifax\":\"halifax\",\"fort_worth\":\"fort worth\",\"betheseda\":\"betheseda\",\"amsterdam\":\"amsterdam\",\"providence\":\"providence\",\"wilmington\":\"wilmington\",\"bay_area\":\"bay area\",\"bellevue\":\"bellevue\",\"oxford\":\"oxford\",\"tacoma\":\"tacoma\",\"fairfax\":\"fairfax\",\"harrisburg\":\"harrisburg\",\"paris\":\"paris\",\"fort_collins\":\"fort collins\",\"wichita\":\"wichita\",\"syracuse\":\"syracuse\",\"tulsa\":\"tulsa\",\"newark\":\"newark\",\"anchorage\":\"anchorage\",\"charleston\":\"charleston\",\"victoria\":\"victoria\",\"perth\":\"perth\",\"miami\":\"miami\",\"eugene\":\"eugene\",\"salem\":\"salem\",\"lansing\":\"lansing\",\"lincoln\":\"lincoln\",\"dayton\":\"dayton\",\"knoxville\":\"knoxville\",\"huntsville\":\"huntsville\",\"chapel_hill\":\"chapel hill\",\"silver_spring\":\"silver spring\",\"princeton\":\"princeton\",\"palo_alto\":\"palo alto\",\"prefer_not_to_answer\":\"na\",\"reston\":\"reston\",\"spokane\":\"spokane\",\"new_haven\":\"new haven\",\"saint_louis\":\"st louis\",\"greenville\":\"greenville\",\"athens\":\"athens\",\"munich\":\"munich\",\"santa_clara\":\"santa clara\",\"berkeley\":\"berekely\",\"mclean\":\"mclean\",\"mountain_view\":\"mountain view\",\"greensboro\":\"greensboro\",\"sunnyvale\":\"sunnyvale\",\"missoula\":\"missoula\",\"gainesville\":\"gainesville\",\"canberra\":\"canberra\",\"adelaide\":\"adelaide\",\"chattanooga\":\"chattanooga\",\"vienna\":\"vienna\",\"olympia\":\"olympia\",\"toldeo\":\"toledo\",\"worcester\":\"worcester\",\"long_beach\":\"long beach\",\"troy\":\"troy\",\"brighton\":\"brighton\",\"norfolk\":\"norfolk\",\"waltham\":\"waltham\",\"tallahassee\":\"tallahassee\",\"manhattan\":\"manhattan\",\"nottingham\":\"nottingham\"}\n",
    "            # Loops through above data finds where it contains that word and changes it to its common name\n",
    "            for city in city_data:\n",
    "                data.loc[data[\"city\"].str.contains(city,na = False), \"city\"] = city_data[city]\n",
    "        renamecities(data)\n",
    "\n",
    "        def rename_states2(data):\n",
    "            data['us_state'] = data['us_state'].str.strip()\n",
    "            data['us_state'] = data['us_state'].str.lower()\n",
    "            states_data = {\"new york\":\"ny\",\"california\":\"california\",\"massachusetts\":\"massachusetts\",\"texas\":\"texas\",\"illinois\":\"illinois\",\"washington\":\"washington\",\"columbia\":\"columbia\",\"pennsylvania\":\"pennsylvania\",\"virginia\":\"virgina\",\"minnesota\":\"minnesota\",\"ohio\":\"ohio\",\"colorado\":\"colorado\",\"oregon\":\"oregon\",\"north carolina\":\"nc\",\"maryland\":\"maryland\",\"michigan\":\"michigan\",\"georgia\":\"georgia\",\"florida\":\"florida\",\"wisconsin\":\"wisconsin\",\"new jersey\":\"nj\",\"iowa\":\"iowa\",\"mississippi\":\"mississippi\",\"utah\":\"utah\",\"alabama\":\"alabama\",\"kansas\":\"kansas\",\"montana\":\"montana\"}\n",
    "            for states in states_data:\n",
    "                data.loc[data[\"us_state\"].str.contains(states,na = False), \"us_state\"] = states_data[states]\n",
    "        rename_states2(data)\n",
    "\n",
    "        def rename_industries(data):\n",
    "            data['industry'] = data['industry'].str.strip()\n",
    "            data['industry'] = data['industry'].str.lower()\n",
    "            ind_data = {\"education\":\"education\",\"tech\":\"tech\",\"health\":\"health\",\"government\":\"government\",\"govt\":\"government\",\"pharma\":\"pharmaceutical\",\"research\":\"research\",\"oil\":\"oil\",\"librar\":\"library\",\"museum\":\"museum\",\"construction\":\"construction\",\"accounting\":\"accounting,banking & finance\",\"engineering\":\"engineering or manufacturing\",\"manufacturing\":\"engineering or manufacturing\",\"biotech\":\"biotech\",\"bitech\":\"biotech\",\"communications\":\"communications\",\"marketing\":\"marketing,advertising & pr\",\"consulting\":\"business or consulting\",\"retail\":\"retail\",\"sales\":\"sales\",\"sale\":\"sales\",\"agriculture\":\"agriculture or forestry\",\"fitness\":\"leisure,sport & tourism\",\"restaurant\":\"hospitality & events\",\"food service\":\"hospitality & events\",\"software\":\"tech\",\"automotive\":\"automotive\",\"vetenary medicine\":\"pharmaceutical\",\"scientific research\":\"science\",\"biology\":\"science\",\"life science\":\"science\",\"estate\":\"real estate\",\"environmental\":\"environmental\",\"edicine\":\"pharmaceutical\",\"veterinary\":\"pharmaceutical\",\"defenc\":\"defence\",\"soldier\":\"defence\",\"design\":\"art & design\",\"architecture\":\"architecture\",\"contracting\":\"contracting\",\"energy\":\"energy\",\"book publishing\":\"publishing\"}\n",
    "            for ind in ind_data:\n",
    "                data.loc[data[\"industry\"].str.contains(ind,na = False), \"industry\"] = ind_data[ind]\n",
    "        rename_industries(data)\n",
    "\n",
    "        def rename_race(data):\n",
    "            race_data = {\"Asian or Asian American\":\"Asian\",\"White\":\"White\",\"Black or African American\":\"Black\",\"Another option not listed here or prefer not to answer\":\"Other\",\"Hispanic\":\"Hispanic\",\"Native American or Alaska Native\":\"Native American\",\"Middle Eastern or Northern African\":\"Middle Eastern\"}\n",
    "            for race in race_data:\n",
    "                data.loc[data[\"race\"].str.contains(race,na = False), \"race\"] = race_data[race]\n",
    "        rename_race(data)\n"
   ]
  },
  {
   "cell_type": "markdown",
   "metadata": {},
   "source": [
    "This is my full chain of responsibility, I put all the renaming classes first as they didnt affect my other functions. I then put currency converter second to last as that did change the values that I used to change the names of the countries and states"
   ]
  },
  {
   "cell_type": "code",
   "execution_count": 45,
   "metadata": {},
   "outputs": [
    {
     "name": "stderr",
     "output_type": "stream",
     "text": [
      "C:\\Users\\Cillian\\AppData\\Local\\Temp\\ipykernel_15488\\2778080148.py:5: FutureWarning: A value is trying to be set on a copy of a DataFrame or Series through chained assignment using an inplace method.\n",
      "The behavior will change in pandas 3.0. This inplace method will never work because the intermediate object on which we are setting values always behaves as a copy.\n",
      "\n",
      "For example, when doing 'df[col].method(value, inplace=True)', try using 'df.method({col: value}, inplace=True)' or df[col] = df[col].method(value) instead, to perform the operation inplace on the original object.\n",
      "\n",
      "\n",
      "  data[\"compensation\"].fillna(0,inplace=True)\n",
      "C:\\Users\\Cillian\\AppData\\Local\\Temp\\ipykernel_15488\\2778080148.py:7: FutureWarning: A value is trying to be set on a copy of a DataFrame or Series through chained assignment using an inplace method.\n",
      "The behavior will change in pandas 3.0. This inplace method will never work because the intermediate object on which we are setting values always behaves as a copy.\n",
      "\n",
      "For example, when doing 'df[col].method(value, inplace=True)', try using 'df.method({col: value}, inplace=True)' or df[col] = df[col].method(value) instead, to perform the operation inplace on the original object.\n",
      "\n",
      "\n",
      "  data[\"compensation\"].replace(0, np.nan, inplace=True)\n",
      "C:\\Users\\Cillian\\AppData\\Local\\Temp\\ipykernel_15488\\2912338797.py:15: FutureWarning: Setting an item of incompatible dtype is deprecated and will raise an error in a future version of pandas. Value '[ 44800.  88200. 168000. ... 112000.  73500. 100800.]' has dtype incompatible with int64, please explicitly cast to a compatible dtype first.\n",
      "  data.loc[data[\"currency\"] == exchange, \"salary\"] = (data.loc[data[\"currency\"] == exchange, \"salary\"] * rate)\n"
     ]
    },
    {
     "ename": "PermissionError",
     "evalue": "[Errno 13] Permission denied: 'manager_cleaned.csv'",
     "output_type": "error",
     "traceback": [
      "\u001b[1;31m---------------------------------------------------------------------------\u001b[0m",
      "\u001b[1;31mPermissionError\u001b[0m                           Traceback (most recent call last)",
      "Cell \u001b[1;32mIn[45], line 2\u001b[0m\n\u001b[0;32m      1\u001b[0m chain \u001b[38;5;241m=\u001b[39m RenameCols(RenameYearsAgeGenderEducation(RenameCountryEuro(RenameCountryValuesCurrency(FillNA(ChangeTimestamp(CurrencyConverter(WriteToNewCSV())))))))\n\u001b[1;32m----> 2\u001b[0m \u001b[43mchain\u001b[49m\u001b[38;5;241;43m.\u001b[39;49m\u001b[43mprocess\u001b[49m\u001b[43m(\u001b[49m\u001b[43mman_salary_data\u001b[49m\u001b[43m)\u001b[49m\n",
      "Cell \u001b[1;32mIn[36], line 11\u001b[0m, in \u001b[0;36mDataCleaner.process\u001b[1;34m(self, data)\u001b[0m\n\u001b[0;32m      9\u001b[0m \u001b[38;5;28mself\u001b[39m\u001b[38;5;241m.\u001b[39mprocess_task(data)\n\u001b[0;32m     10\u001b[0m \u001b[38;5;28;01mif\u001b[39;00m \u001b[38;5;28mself\u001b[39m\u001b[38;5;241m.\u001b[39mnext \u001b[38;5;129;01mis\u001b[39;00m \u001b[38;5;129;01mnot\u001b[39;00m \u001b[38;5;28;01mNone\u001b[39;00m:\n\u001b[1;32m---> 11\u001b[0m     \u001b[38;5;28;43mself\u001b[39;49m\u001b[38;5;241;43m.\u001b[39;49m\u001b[43mnext\u001b[49m\u001b[38;5;241;43m.\u001b[39;49m\u001b[43mprocess\u001b[49m\u001b[43m(\u001b[49m\u001b[43mdata\u001b[49m\u001b[43m)\u001b[49m\n",
      "Cell \u001b[1;32mIn[36], line 11\u001b[0m, in \u001b[0;36mDataCleaner.process\u001b[1;34m(self, data)\u001b[0m\n\u001b[0;32m      9\u001b[0m \u001b[38;5;28mself\u001b[39m\u001b[38;5;241m.\u001b[39mprocess_task(data)\n\u001b[0;32m     10\u001b[0m \u001b[38;5;28;01mif\u001b[39;00m \u001b[38;5;28mself\u001b[39m\u001b[38;5;241m.\u001b[39mnext \u001b[38;5;129;01mis\u001b[39;00m \u001b[38;5;129;01mnot\u001b[39;00m \u001b[38;5;28;01mNone\u001b[39;00m:\n\u001b[1;32m---> 11\u001b[0m     \u001b[38;5;28;43mself\u001b[39;49m\u001b[38;5;241;43m.\u001b[39;49m\u001b[43mnext\u001b[49m\u001b[38;5;241;43m.\u001b[39;49m\u001b[43mprocess\u001b[49m\u001b[43m(\u001b[49m\u001b[43mdata\u001b[49m\u001b[43m)\u001b[49m\n",
      "    \u001b[1;31m[... skipping similar frames: DataCleaner.process at line 11 (4 times)]\u001b[0m\n",
      "Cell \u001b[1;32mIn[36], line 11\u001b[0m, in \u001b[0;36mDataCleaner.process\u001b[1;34m(self, data)\u001b[0m\n\u001b[0;32m      9\u001b[0m \u001b[38;5;28mself\u001b[39m\u001b[38;5;241m.\u001b[39mprocess_task(data)\n\u001b[0;32m     10\u001b[0m \u001b[38;5;28;01mif\u001b[39;00m \u001b[38;5;28mself\u001b[39m\u001b[38;5;241m.\u001b[39mnext \u001b[38;5;129;01mis\u001b[39;00m \u001b[38;5;129;01mnot\u001b[39;00m \u001b[38;5;28;01mNone\u001b[39;00m:\n\u001b[1;32m---> 11\u001b[0m     \u001b[38;5;28;43mself\u001b[39;49m\u001b[38;5;241;43m.\u001b[39;49m\u001b[43mnext\u001b[49m\u001b[38;5;241;43m.\u001b[39;49m\u001b[43mprocess\u001b[49m\u001b[43m(\u001b[49m\u001b[43mdata\u001b[49m\u001b[43m)\u001b[49m\n",
      "Cell \u001b[1;32mIn[36], line 9\u001b[0m, in \u001b[0;36mDataCleaner.process\u001b[1;34m(self, data)\u001b[0m\n\u001b[0;32m      6\u001b[0m \u001b[38;5;28;01mdef\u001b[39;00m \u001b[38;5;21mprocess\u001b[39m(\u001b[38;5;28mself\u001b[39m, data):\n\u001b[0;32m      7\u001b[0m \u001b[38;5;250m    \u001b[39m\u001b[38;5;124;03m''' call process_task on the concrete class\u001b[39;00m\n\u001b[0;32m      8\u001b[0m \u001b[38;5;124;03m    then calls the next handler'''\u001b[39;00m\n\u001b[1;32m----> 9\u001b[0m     \u001b[38;5;28;43mself\u001b[39;49m\u001b[38;5;241;43m.\u001b[39;49m\u001b[43mprocess_task\u001b[49m\u001b[43m(\u001b[49m\u001b[43mdata\u001b[49m\u001b[43m)\u001b[49m\n\u001b[0;32m     10\u001b[0m     \u001b[38;5;28;01mif\u001b[39;00m \u001b[38;5;28mself\u001b[39m\u001b[38;5;241m.\u001b[39mnext \u001b[38;5;129;01mis\u001b[39;00m \u001b[38;5;129;01mnot\u001b[39;00m \u001b[38;5;28;01mNone\u001b[39;00m:\n\u001b[0;32m     11\u001b[0m         \u001b[38;5;28mself\u001b[39m\u001b[38;5;241m.\u001b[39mnext\u001b[38;5;241m.\u001b[39mprocess(data)\n",
      "Cell \u001b[1;32mIn[41], line 4\u001b[0m, in \u001b[0;36mWriteToNewCSV.process_task\u001b[1;34m(self, data)\u001b[0m\n\u001b[0;32m      2\u001b[0m \u001b[38;5;28;01mdef\u001b[39;00m \u001b[38;5;21mprocess_task\u001b[39m(\u001b[38;5;28mself\u001b[39m, data):\n\u001b[0;32m      3\u001b[0m     \u001b[38;5;66;03m# writing cleaned data to new csv\u001b[39;00m\n\u001b[1;32m----> 4\u001b[0m     \u001b[38;5;28;01mreturn\u001b[39;00m \u001b[43mdata\u001b[49m\u001b[38;5;241;43m.\u001b[39;49m\u001b[43mto_csv\u001b[49m\u001b[43m(\u001b[49m\u001b[38;5;124;43m\"\u001b[39;49m\u001b[38;5;124;43mmanager_cleaned.csv\u001b[39;49m\u001b[38;5;124;43m\"\u001b[39;49m\u001b[43m)\u001b[49m\n",
      "File \u001b[1;32m~\\AppData\\Local\\Packages\\PythonSoftwareFoundation.Python.3.11_qbz5n2kfra8p0\\LocalCache\\local-packages\\Python311\\site-packages\\pandas\\util\\_decorators.py:333\u001b[0m, in \u001b[0;36mdeprecate_nonkeyword_arguments.<locals>.decorate.<locals>.wrapper\u001b[1;34m(*args, **kwargs)\u001b[0m\n\u001b[0;32m    327\u001b[0m \u001b[38;5;28;01mif\u001b[39;00m \u001b[38;5;28mlen\u001b[39m(args) \u001b[38;5;241m>\u001b[39m num_allow_args:\n\u001b[0;32m    328\u001b[0m     warnings\u001b[38;5;241m.\u001b[39mwarn(\n\u001b[0;32m    329\u001b[0m         msg\u001b[38;5;241m.\u001b[39mformat(arguments\u001b[38;5;241m=\u001b[39m_format_argument_list(allow_args)),\n\u001b[0;32m    330\u001b[0m         \u001b[38;5;167;01mFutureWarning\u001b[39;00m,\n\u001b[0;32m    331\u001b[0m         stacklevel\u001b[38;5;241m=\u001b[39mfind_stack_level(),\n\u001b[0;32m    332\u001b[0m     )\n\u001b[1;32m--> 333\u001b[0m \u001b[38;5;28;01mreturn\u001b[39;00m \u001b[43mfunc\u001b[49m\u001b[43m(\u001b[49m\u001b[38;5;241;43m*\u001b[39;49m\u001b[43margs\u001b[49m\u001b[43m,\u001b[49m\u001b[43m \u001b[49m\u001b[38;5;241;43m*\u001b[39;49m\u001b[38;5;241;43m*\u001b[39;49m\u001b[43mkwargs\u001b[49m\u001b[43m)\u001b[49m\n",
      "File \u001b[1;32m~\\AppData\\Local\\Packages\\PythonSoftwareFoundation.Python.3.11_qbz5n2kfra8p0\\LocalCache\\local-packages\\Python311\\site-packages\\pandas\\core\\generic.py:3967\u001b[0m, in \u001b[0;36mNDFrame.to_csv\u001b[1;34m(self, path_or_buf, sep, na_rep, float_format, columns, header, index, index_label, mode, encoding, compression, quoting, quotechar, lineterminator, chunksize, date_format, doublequote, escapechar, decimal, errors, storage_options)\u001b[0m\n\u001b[0;32m   3956\u001b[0m df \u001b[38;5;241m=\u001b[39m \u001b[38;5;28mself\u001b[39m \u001b[38;5;28;01mif\u001b[39;00m \u001b[38;5;28misinstance\u001b[39m(\u001b[38;5;28mself\u001b[39m, ABCDataFrame) \u001b[38;5;28;01melse\u001b[39;00m \u001b[38;5;28mself\u001b[39m\u001b[38;5;241m.\u001b[39mto_frame()\n\u001b[0;32m   3958\u001b[0m formatter \u001b[38;5;241m=\u001b[39m DataFrameFormatter(\n\u001b[0;32m   3959\u001b[0m     frame\u001b[38;5;241m=\u001b[39mdf,\n\u001b[0;32m   3960\u001b[0m     header\u001b[38;5;241m=\u001b[39mheader,\n\u001b[1;32m   (...)\u001b[0m\n\u001b[0;32m   3964\u001b[0m     decimal\u001b[38;5;241m=\u001b[39mdecimal,\n\u001b[0;32m   3965\u001b[0m )\n\u001b[1;32m-> 3967\u001b[0m \u001b[38;5;28;01mreturn\u001b[39;00m \u001b[43mDataFrameRenderer\u001b[49m\u001b[43m(\u001b[49m\u001b[43mformatter\u001b[49m\u001b[43m)\u001b[49m\u001b[38;5;241;43m.\u001b[39;49m\u001b[43mto_csv\u001b[49m\u001b[43m(\u001b[49m\n\u001b[0;32m   3968\u001b[0m \u001b[43m    \u001b[49m\u001b[43mpath_or_buf\u001b[49m\u001b[43m,\u001b[49m\n\u001b[0;32m   3969\u001b[0m \u001b[43m    \u001b[49m\u001b[43mlineterminator\u001b[49m\u001b[38;5;241;43m=\u001b[39;49m\u001b[43mlineterminator\u001b[49m\u001b[43m,\u001b[49m\n\u001b[0;32m   3970\u001b[0m \u001b[43m    \u001b[49m\u001b[43msep\u001b[49m\u001b[38;5;241;43m=\u001b[39;49m\u001b[43msep\u001b[49m\u001b[43m,\u001b[49m\n\u001b[0;32m   3971\u001b[0m \u001b[43m    \u001b[49m\u001b[43mencoding\u001b[49m\u001b[38;5;241;43m=\u001b[39;49m\u001b[43mencoding\u001b[49m\u001b[43m,\u001b[49m\n\u001b[0;32m   3972\u001b[0m \u001b[43m    \u001b[49m\u001b[43merrors\u001b[49m\u001b[38;5;241;43m=\u001b[39;49m\u001b[43merrors\u001b[49m\u001b[43m,\u001b[49m\n\u001b[0;32m   3973\u001b[0m \u001b[43m    \u001b[49m\u001b[43mcompression\u001b[49m\u001b[38;5;241;43m=\u001b[39;49m\u001b[43mcompression\u001b[49m\u001b[43m,\u001b[49m\n\u001b[0;32m   3974\u001b[0m \u001b[43m    \u001b[49m\u001b[43mquoting\u001b[49m\u001b[38;5;241;43m=\u001b[39;49m\u001b[43mquoting\u001b[49m\u001b[43m,\u001b[49m\n\u001b[0;32m   3975\u001b[0m \u001b[43m    \u001b[49m\u001b[43mcolumns\u001b[49m\u001b[38;5;241;43m=\u001b[39;49m\u001b[43mcolumns\u001b[49m\u001b[43m,\u001b[49m\n\u001b[0;32m   3976\u001b[0m \u001b[43m    \u001b[49m\u001b[43mindex_label\u001b[49m\u001b[38;5;241;43m=\u001b[39;49m\u001b[43mindex_label\u001b[49m\u001b[43m,\u001b[49m\n\u001b[0;32m   3977\u001b[0m \u001b[43m    \u001b[49m\u001b[43mmode\u001b[49m\u001b[38;5;241;43m=\u001b[39;49m\u001b[43mmode\u001b[49m\u001b[43m,\u001b[49m\n\u001b[0;32m   3978\u001b[0m \u001b[43m    \u001b[49m\u001b[43mchunksize\u001b[49m\u001b[38;5;241;43m=\u001b[39;49m\u001b[43mchunksize\u001b[49m\u001b[43m,\u001b[49m\n\u001b[0;32m   3979\u001b[0m \u001b[43m    \u001b[49m\u001b[43mquotechar\u001b[49m\u001b[38;5;241;43m=\u001b[39;49m\u001b[43mquotechar\u001b[49m\u001b[43m,\u001b[49m\n\u001b[0;32m   3980\u001b[0m \u001b[43m    \u001b[49m\u001b[43mdate_format\u001b[49m\u001b[38;5;241;43m=\u001b[39;49m\u001b[43mdate_format\u001b[49m\u001b[43m,\u001b[49m\n\u001b[0;32m   3981\u001b[0m \u001b[43m    \u001b[49m\u001b[43mdoublequote\u001b[49m\u001b[38;5;241;43m=\u001b[39;49m\u001b[43mdoublequote\u001b[49m\u001b[43m,\u001b[49m\n\u001b[0;32m   3982\u001b[0m \u001b[43m    \u001b[49m\u001b[43mescapechar\u001b[49m\u001b[38;5;241;43m=\u001b[39;49m\u001b[43mescapechar\u001b[49m\u001b[43m,\u001b[49m\n\u001b[0;32m   3983\u001b[0m \u001b[43m    \u001b[49m\u001b[43mstorage_options\u001b[49m\u001b[38;5;241;43m=\u001b[39;49m\u001b[43mstorage_options\u001b[49m\u001b[43m,\u001b[49m\n\u001b[0;32m   3984\u001b[0m \u001b[43m\u001b[49m\u001b[43m)\u001b[49m\n",
      "File \u001b[1;32m~\\AppData\\Local\\Packages\\PythonSoftwareFoundation.Python.3.11_qbz5n2kfra8p0\\LocalCache\\local-packages\\Python311\\site-packages\\pandas\\io\\formats\\format.py:1014\u001b[0m, in \u001b[0;36mDataFrameRenderer.to_csv\u001b[1;34m(self, path_or_buf, encoding, sep, columns, index_label, mode, compression, quoting, quotechar, lineterminator, chunksize, date_format, doublequote, escapechar, errors, storage_options)\u001b[0m\n\u001b[0;32m    993\u001b[0m     created_buffer \u001b[38;5;241m=\u001b[39m \u001b[38;5;28;01mFalse\u001b[39;00m\n\u001b[0;32m    995\u001b[0m csv_formatter \u001b[38;5;241m=\u001b[39m CSVFormatter(\n\u001b[0;32m    996\u001b[0m     path_or_buf\u001b[38;5;241m=\u001b[39mpath_or_buf,\n\u001b[0;32m    997\u001b[0m     lineterminator\u001b[38;5;241m=\u001b[39mlineterminator,\n\u001b[1;32m   (...)\u001b[0m\n\u001b[0;32m   1012\u001b[0m     formatter\u001b[38;5;241m=\u001b[39m\u001b[38;5;28mself\u001b[39m\u001b[38;5;241m.\u001b[39mfmt,\n\u001b[0;32m   1013\u001b[0m )\n\u001b[1;32m-> 1014\u001b[0m \u001b[43mcsv_formatter\u001b[49m\u001b[38;5;241;43m.\u001b[39;49m\u001b[43msave\u001b[49m\u001b[43m(\u001b[49m\u001b[43m)\u001b[49m\n\u001b[0;32m   1016\u001b[0m \u001b[38;5;28;01mif\u001b[39;00m created_buffer:\n\u001b[0;32m   1017\u001b[0m     \u001b[38;5;28;01massert\u001b[39;00m \u001b[38;5;28misinstance\u001b[39m(path_or_buf, StringIO)\n",
      "File \u001b[1;32m~\\AppData\\Local\\Packages\\PythonSoftwareFoundation.Python.3.11_qbz5n2kfra8p0\\LocalCache\\local-packages\\Python311\\site-packages\\pandas\\io\\formats\\csvs.py:251\u001b[0m, in \u001b[0;36mCSVFormatter.save\u001b[1;34m(self)\u001b[0m\n\u001b[0;32m    247\u001b[0m \u001b[38;5;250m\u001b[39m\u001b[38;5;124;03m\"\"\"\u001b[39;00m\n\u001b[0;32m    248\u001b[0m \u001b[38;5;124;03mCreate the writer & save.\u001b[39;00m\n\u001b[0;32m    249\u001b[0m \u001b[38;5;124;03m\"\"\"\u001b[39;00m\n\u001b[0;32m    250\u001b[0m \u001b[38;5;66;03m# apply compression and byte/text conversion\u001b[39;00m\n\u001b[1;32m--> 251\u001b[0m \u001b[38;5;28;01mwith\u001b[39;00m \u001b[43mget_handle\u001b[49m\u001b[43m(\u001b[49m\n\u001b[0;32m    252\u001b[0m \u001b[43m    \u001b[49m\u001b[38;5;28;43mself\u001b[39;49m\u001b[38;5;241;43m.\u001b[39;49m\u001b[43mfilepath_or_buffer\u001b[49m\u001b[43m,\u001b[49m\n\u001b[0;32m    253\u001b[0m \u001b[43m    \u001b[49m\u001b[38;5;28;43mself\u001b[39;49m\u001b[38;5;241;43m.\u001b[39;49m\u001b[43mmode\u001b[49m\u001b[43m,\u001b[49m\n\u001b[0;32m    254\u001b[0m \u001b[43m    \u001b[49m\u001b[43mencoding\u001b[49m\u001b[38;5;241;43m=\u001b[39;49m\u001b[38;5;28;43mself\u001b[39;49m\u001b[38;5;241;43m.\u001b[39;49m\u001b[43mencoding\u001b[49m\u001b[43m,\u001b[49m\n\u001b[0;32m    255\u001b[0m \u001b[43m    \u001b[49m\u001b[43merrors\u001b[49m\u001b[38;5;241;43m=\u001b[39;49m\u001b[38;5;28;43mself\u001b[39;49m\u001b[38;5;241;43m.\u001b[39;49m\u001b[43merrors\u001b[49m\u001b[43m,\u001b[49m\n\u001b[0;32m    256\u001b[0m \u001b[43m    \u001b[49m\u001b[43mcompression\u001b[49m\u001b[38;5;241;43m=\u001b[39;49m\u001b[38;5;28;43mself\u001b[39;49m\u001b[38;5;241;43m.\u001b[39;49m\u001b[43mcompression\u001b[49m\u001b[43m,\u001b[49m\n\u001b[0;32m    257\u001b[0m \u001b[43m    \u001b[49m\u001b[43mstorage_options\u001b[49m\u001b[38;5;241;43m=\u001b[39;49m\u001b[38;5;28;43mself\u001b[39;49m\u001b[38;5;241;43m.\u001b[39;49m\u001b[43mstorage_options\u001b[49m\u001b[43m,\u001b[49m\n\u001b[0;32m    258\u001b[0m \u001b[43m\u001b[49m\u001b[43m)\u001b[49m \u001b[38;5;28;01mas\u001b[39;00m handles:\n\u001b[0;32m    259\u001b[0m     \u001b[38;5;66;03m# Note: self.encoding is irrelevant here\u001b[39;00m\n\u001b[0;32m    260\u001b[0m     \u001b[38;5;28mself\u001b[39m\u001b[38;5;241m.\u001b[39mwriter \u001b[38;5;241m=\u001b[39m csvlib\u001b[38;5;241m.\u001b[39mwriter(\n\u001b[0;32m    261\u001b[0m         handles\u001b[38;5;241m.\u001b[39mhandle,\n\u001b[0;32m    262\u001b[0m         lineterminator\u001b[38;5;241m=\u001b[39m\u001b[38;5;28mself\u001b[39m\u001b[38;5;241m.\u001b[39mlineterminator,\n\u001b[1;32m   (...)\u001b[0m\n\u001b[0;32m    267\u001b[0m         quotechar\u001b[38;5;241m=\u001b[39m\u001b[38;5;28mself\u001b[39m\u001b[38;5;241m.\u001b[39mquotechar,\n\u001b[0;32m    268\u001b[0m     )\n\u001b[0;32m    270\u001b[0m     \u001b[38;5;28mself\u001b[39m\u001b[38;5;241m.\u001b[39m_save()\n",
      "File \u001b[1;32m~\\AppData\\Local\\Packages\\PythonSoftwareFoundation.Python.3.11_qbz5n2kfra8p0\\LocalCache\\local-packages\\Python311\\site-packages\\pandas\\io\\common.py:873\u001b[0m, in \u001b[0;36mget_handle\u001b[1;34m(path_or_buf, mode, encoding, compression, memory_map, is_text, errors, storage_options)\u001b[0m\n\u001b[0;32m    868\u001b[0m \u001b[38;5;28;01melif\u001b[39;00m \u001b[38;5;28misinstance\u001b[39m(handle, \u001b[38;5;28mstr\u001b[39m):\n\u001b[0;32m    869\u001b[0m     \u001b[38;5;66;03m# Check whether the filename is to be opened in binary mode.\u001b[39;00m\n\u001b[0;32m    870\u001b[0m     \u001b[38;5;66;03m# Binary mode does not support 'encoding' and 'newline'.\u001b[39;00m\n\u001b[0;32m    871\u001b[0m     \u001b[38;5;28;01mif\u001b[39;00m ioargs\u001b[38;5;241m.\u001b[39mencoding \u001b[38;5;129;01mand\u001b[39;00m \u001b[38;5;124m\"\u001b[39m\u001b[38;5;124mb\u001b[39m\u001b[38;5;124m\"\u001b[39m \u001b[38;5;129;01mnot\u001b[39;00m \u001b[38;5;129;01min\u001b[39;00m ioargs\u001b[38;5;241m.\u001b[39mmode:\n\u001b[0;32m    872\u001b[0m         \u001b[38;5;66;03m# Encoding\u001b[39;00m\n\u001b[1;32m--> 873\u001b[0m         handle \u001b[38;5;241m=\u001b[39m \u001b[38;5;28;43mopen\u001b[39;49m\u001b[43m(\u001b[49m\n\u001b[0;32m    874\u001b[0m \u001b[43m            \u001b[49m\u001b[43mhandle\u001b[49m\u001b[43m,\u001b[49m\n\u001b[0;32m    875\u001b[0m \u001b[43m            \u001b[49m\u001b[43mioargs\u001b[49m\u001b[38;5;241;43m.\u001b[39;49m\u001b[43mmode\u001b[49m\u001b[43m,\u001b[49m\n\u001b[0;32m    876\u001b[0m \u001b[43m            \u001b[49m\u001b[43mencoding\u001b[49m\u001b[38;5;241;43m=\u001b[39;49m\u001b[43mioargs\u001b[49m\u001b[38;5;241;43m.\u001b[39;49m\u001b[43mencoding\u001b[49m\u001b[43m,\u001b[49m\n\u001b[0;32m    877\u001b[0m \u001b[43m            \u001b[49m\u001b[43merrors\u001b[49m\u001b[38;5;241;43m=\u001b[39;49m\u001b[43merrors\u001b[49m\u001b[43m,\u001b[49m\n\u001b[0;32m    878\u001b[0m \u001b[43m            \u001b[49m\u001b[43mnewline\u001b[49m\u001b[38;5;241;43m=\u001b[39;49m\u001b[38;5;124;43m\"\u001b[39;49m\u001b[38;5;124;43m\"\u001b[39;49m\u001b[43m,\u001b[49m\n\u001b[0;32m    879\u001b[0m \u001b[43m        \u001b[49m\u001b[43m)\u001b[49m\n\u001b[0;32m    880\u001b[0m     \u001b[38;5;28;01melse\u001b[39;00m:\n\u001b[0;32m    881\u001b[0m         \u001b[38;5;66;03m# Binary mode\u001b[39;00m\n\u001b[0;32m    882\u001b[0m         handle \u001b[38;5;241m=\u001b[39m \u001b[38;5;28mopen\u001b[39m(handle, ioargs\u001b[38;5;241m.\u001b[39mmode)\n",
      "\u001b[1;31mPermissionError\u001b[0m: [Errno 13] Permission denied: 'manager_cleaned.csv'"
     ]
    }
   ],
   "source": [
    "chain = RenameCols(RenameYearsAgeGenderEducation(RenameCountryEuro(RenameCountryValuesCurrency(FillNA(ChangeTimestamp(CurrencyConverter(WriteToNewCSV())))))))\n",
    "chain.process(man_salary_data)"
   ]
  },
  {
   "cell_type": "code",
   "execution_count": 46,
   "metadata": {},
   "outputs": [
    {
     "data": {
      "text/html": [
       "<div>\n",
       "<style scoped>\n",
       "    .dataframe tbody tr th:only-of-type {\n",
       "        vertical-align: middle;\n",
       "    }\n",
       "\n",
       "    .dataframe tbody tr th {\n",
       "        vertical-align: top;\n",
       "    }\n",
       "\n",
       "    .dataframe thead th {\n",
       "        text-align: right;\n",
       "    }\n",
       "</style>\n",
       "<table border=\"1\" class=\"dataframe\">\n",
       "  <thead>\n",
       "    <tr style=\"text-align: right;\">\n",
       "      <th></th>\n",
       "      <th>timestamp</th>\n",
       "      <th>age</th>\n",
       "      <th>industry</th>\n",
       "      <th>job</th>\n",
       "      <th>salary</th>\n",
       "      <th>compensation</th>\n",
       "      <th>currency</th>\n",
       "      <th>other_currency</th>\n",
       "      <th>country</th>\n",
       "      <th>us_state</th>\n",
       "      <th>city</th>\n",
       "      <th>years_work_overall</th>\n",
       "      <th>years_work_in_field</th>\n",
       "      <th>education</th>\n",
       "      <th>gender</th>\n",
       "      <th>race</th>\n",
       "      <th>year</th>\n",
       "    </tr>\n",
       "  </thead>\n",
       "  <tbody>\n",
       "    <tr>\n",
       "      <th>0</th>\n",
       "      <td>2021-04-27 11:02:10</td>\n",
       "      <td>3</td>\n",
       "      <td>education</td>\n",
       "      <td>Research and Instruction Librarian</td>\n",
       "      <td>55000.0</td>\n",
       "      <td>NaN</td>\n",
       "      <td>USD</td>\n",
       "      <td>NaN</td>\n",
       "      <td>USA</td>\n",
       "      <td>massachusetts</td>\n",
       "      <td>boston</td>\n",
       "      <td>3</td>\n",
       "      <td>3</td>\n",
       "      <td>MD</td>\n",
       "      <td>Woman</td>\n",
       "      <td>White</td>\n",
       "      <td>2021</td>\n",
       "    </tr>\n",
       "    <tr>\n",
       "      <th>1</th>\n",
       "      <td>2021-04-27 11:02:22</td>\n",
       "      <td>3</td>\n",
       "      <td>tech</td>\n",
       "      <td>Change &amp; Internal Communications Manager</td>\n",
       "      <td>43134.0</td>\n",
       "      <td>3160.0</td>\n",
       "      <td>USD</td>\n",
       "      <td>NaN</td>\n",
       "      <td>UK</td>\n",
       "      <td>NaN</td>\n",
       "      <td>cambridge</td>\n",
       "      <td>4</td>\n",
       "      <td>3</td>\n",
       "      <td>CD</td>\n",
       "      <td>Non-binary</td>\n",
       "      <td>White</td>\n",
       "      <td>2021</td>\n",
       "    </tr>\n",
       "    <tr>\n",
       "      <th>2</th>\n",
       "      <td>2021-04-27 11:02:38</td>\n",
       "      <td>3</td>\n",
       "      <td>accounting,banking &amp; finance</td>\n",
       "      <td>Marketing Specialist</td>\n",
       "      <td>34000.0</td>\n",
       "      <td>NaN</td>\n",
       "      <td>USD</td>\n",
       "      <td>NaN</td>\n",
       "      <td>USA</td>\n",
       "      <td>tennessee</td>\n",
       "      <td>chattanooga</td>\n",
       "      <td>2</td>\n",
       "      <td>2</td>\n",
       "      <td>CD</td>\n",
       "      <td>Woman</td>\n",
       "      <td>White</td>\n",
       "      <td>2021</td>\n",
       "    </tr>\n",
       "    <tr>\n",
       "      <th>3</th>\n",
       "      <td>2021-04-27 11:02:41</td>\n",
       "      <td>3</td>\n",
       "      <td>nonprofits</td>\n",
       "      <td>Program Manager</td>\n",
       "      <td>62000.0</td>\n",
       "      <td>3000.0</td>\n",
       "      <td>USD</td>\n",
       "      <td>NaN</td>\n",
       "      <td>USA</td>\n",
       "      <td>wisconsin</td>\n",
       "      <td>milwaukee</td>\n",
       "      <td>4</td>\n",
       "      <td>3</td>\n",
       "      <td>CD</td>\n",
       "      <td>Woman</td>\n",
       "      <td>White</td>\n",
       "      <td>2021</td>\n",
       "    </tr>\n",
       "    <tr>\n",
       "      <th>4</th>\n",
       "      <td>2021-04-27 11:02:42</td>\n",
       "      <td>3</td>\n",
       "      <td>accounting,banking &amp; finance</td>\n",
       "      <td>Accounting Manager</td>\n",
       "      <td>60000.0</td>\n",
       "      <td>7000.0</td>\n",
       "      <td>USD</td>\n",
       "      <td>NaN</td>\n",
       "      <td>USA</td>\n",
       "      <td>south carolina</td>\n",
       "      <td>greenville</td>\n",
       "      <td>4</td>\n",
       "      <td>3</td>\n",
       "      <td>CD</td>\n",
       "      <td>Woman</td>\n",
       "      <td>White</td>\n",
       "      <td>2021</td>\n",
       "    </tr>\n",
       "  </tbody>\n",
       "</table>\n",
       "</div>"
      ],
      "text/plain": [
       "            timestamp age                      industry  \\\n",
       "0 2021-04-27 11:02:10   3                     education   \n",
       "1 2021-04-27 11:02:22   3                          tech   \n",
       "2 2021-04-27 11:02:38   3  accounting,banking & finance   \n",
       "3 2021-04-27 11:02:41   3                    nonprofits   \n",
       "4 2021-04-27 11:02:42   3  accounting,banking & finance   \n",
       "\n",
       "                                        job   salary  compensation currency  \\\n",
       "0        Research and Instruction Librarian  55000.0           NaN      USD   \n",
       "1  Change & Internal Communications Manager  43134.0        3160.0      USD   \n",
       "2                      Marketing Specialist  34000.0           NaN      USD   \n",
       "3                           Program Manager  62000.0        3000.0      USD   \n",
       "4                        Accounting Manager  60000.0        7000.0      USD   \n",
       "\n",
       "  other_currency country        us_state         city years_work_overall  \\\n",
       "0            NaN     USA   massachusetts       boston                  3   \n",
       "1            NaN      UK             NaN    cambridge                  4   \n",
       "2            NaN     USA       tennessee  chattanooga                  2   \n",
       "3            NaN     USA       wisconsin    milwaukee                  4   \n",
       "4            NaN     USA  south carolina   greenville                  4   \n",
       "\n",
       "  years_work_in_field education      gender   race  year  \n",
       "0                   3        MD       Woman  White  2021  \n",
       "1                   3        CD  Non-binary  White  2021  \n",
       "2                   2        CD       Woman  White  2021  \n",
       "3                   3        CD       Woman  White  2021  \n",
       "4                   3        CD       Woman  White  2021  "
      ]
     },
     "execution_count": 46,
     "metadata": {},
     "output_type": "execute_result"
    }
   ],
   "source": [
    "man_salary_data.head()"
   ]
  },
  {
   "cell_type": "code",
   "execution_count": 47,
   "metadata": {},
   "outputs": [
    {
     "data": {
      "text/html": [
       "<div>\n",
       "<style scoped>\n",
       "    .dataframe tbody tr th:only-of-type {\n",
       "        vertical-align: middle;\n",
       "    }\n",
       "\n",
       "    .dataframe tbody tr th {\n",
       "        vertical-align: top;\n",
       "    }\n",
       "\n",
       "    .dataframe thead th {\n",
       "        text-align: right;\n",
       "    }\n",
       "</style>\n",
       "<table border=\"1\" class=\"dataframe\">\n",
       "  <thead>\n",
       "    <tr style=\"text-align: right;\">\n",
       "      <th></th>\n",
       "      <th>Timestamp</th>\n",
       "      <th>How old are you?</th>\n",
       "      <th>What industry do you work in?</th>\n",
       "      <th>Job title</th>\n",
       "      <th>If your job title needs additional context, please clarify here:</th>\n",
       "      <th>What is your annual salary? (You'll indicate the currency in a later question. If you are part-time or hourly, please enter an annualized equivalent -- what you would earn if you worked the job 40 hours a week, 52 weeks a year.)</th>\n",
       "      <th>How much additional monetary compensation do you get, if any (for example, bonuses or overtime in an average year)? Please only include monetary compensation here, not the value of benefits.</th>\n",
       "      <th>Please indicate the currency</th>\n",
       "      <th>If \"Other,\" please indicate the currency here:</th>\n",
       "      <th>If your income needs additional context, please provide it here:</th>\n",
       "      <th>What country do you work in?</th>\n",
       "      <th>If you're in the U.S., what state do you work in?</th>\n",
       "      <th>What city do you work in?</th>\n",
       "      <th>How many years of professional work experience do you have overall?</th>\n",
       "      <th>How many years of professional work experience do you have in your field?</th>\n",
       "      <th>What is your highest level of education completed?</th>\n",
       "      <th>What is your gender?</th>\n",
       "      <th>What is your race? (Choose all that apply.)</th>\n",
       "    </tr>\n",
       "  </thead>\n",
       "  <tbody>\n",
       "    <tr>\n",
       "      <th>0</th>\n",
       "      <td>4/27/2021 11:02:10</td>\n",
       "      <td>25-34</td>\n",
       "      <td>Education (Higher Education)</td>\n",
       "      <td>Research and Instruction Librarian</td>\n",
       "      <td>NaN</td>\n",
       "      <td>55,000</td>\n",
       "      <td>0.0</td>\n",
       "      <td>USD</td>\n",
       "      <td>NaN</td>\n",
       "      <td>NaN</td>\n",
       "      <td>United States</td>\n",
       "      <td>Massachusetts</td>\n",
       "      <td>Boston</td>\n",
       "      <td>5-7 years</td>\n",
       "      <td>5-7 years</td>\n",
       "      <td>Master's degree</td>\n",
       "      <td>Woman</td>\n",
       "      <td>White</td>\n",
       "    </tr>\n",
       "    <tr>\n",
       "      <th>1</th>\n",
       "      <td>4/27/2021 11:02:22</td>\n",
       "      <td>25-34</td>\n",
       "      <td>Computing or Tech</td>\n",
       "      <td>Change &amp; Internal Communications Manager</td>\n",
       "      <td>NaN</td>\n",
       "      <td>54,600</td>\n",
       "      <td>4000.0</td>\n",
       "      <td>GBP</td>\n",
       "      <td>NaN</td>\n",
       "      <td>NaN</td>\n",
       "      <td>United Kingdom</td>\n",
       "      <td>NaN</td>\n",
       "      <td>Cambridge</td>\n",
       "      <td>8 - 10 years</td>\n",
       "      <td>5-7 years</td>\n",
       "      <td>College degree</td>\n",
       "      <td>Non-binary</td>\n",
       "      <td>White</td>\n",
       "    </tr>\n",
       "    <tr>\n",
       "      <th>2</th>\n",
       "      <td>4/27/2021 11:02:38</td>\n",
       "      <td>25-34</td>\n",
       "      <td>Accounting, Banking &amp; Finance</td>\n",
       "      <td>Marketing Specialist</td>\n",
       "      <td>NaN</td>\n",
       "      <td>34,000</td>\n",
       "      <td>NaN</td>\n",
       "      <td>USD</td>\n",
       "      <td>NaN</td>\n",
       "      <td>NaN</td>\n",
       "      <td>US</td>\n",
       "      <td>Tennessee</td>\n",
       "      <td>Chattanooga</td>\n",
       "      <td>2 - 4 years</td>\n",
       "      <td>2 - 4 years</td>\n",
       "      <td>College degree</td>\n",
       "      <td>Woman</td>\n",
       "      <td>White</td>\n",
       "    </tr>\n",
       "    <tr>\n",
       "      <th>3</th>\n",
       "      <td>4/27/2021 11:02:41</td>\n",
       "      <td>25-34</td>\n",
       "      <td>Nonprofits</td>\n",
       "      <td>Program Manager</td>\n",
       "      <td>NaN</td>\n",
       "      <td>62,000</td>\n",
       "      <td>3000.0</td>\n",
       "      <td>USD</td>\n",
       "      <td>NaN</td>\n",
       "      <td>NaN</td>\n",
       "      <td>USA</td>\n",
       "      <td>Wisconsin</td>\n",
       "      <td>Milwaukee</td>\n",
       "      <td>8 - 10 years</td>\n",
       "      <td>5-7 years</td>\n",
       "      <td>College degree</td>\n",
       "      <td>Woman</td>\n",
       "      <td>White</td>\n",
       "    </tr>\n",
       "    <tr>\n",
       "      <th>4</th>\n",
       "      <td>4/27/2021 11:02:42</td>\n",
       "      <td>25-34</td>\n",
       "      <td>Accounting, Banking &amp; Finance</td>\n",
       "      <td>Accounting Manager</td>\n",
       "      <td>NaN</td>\n",
       "      <td>60,000</td>\n",
       "      <td>7000.0</td>\n",
       "      <td>USD</td>\n",
       "      <td>NaN</td>\n",
       "      <td>NaN</td>\n",
       "      <td>US</td>\n",
       "      <td>South Carolina</td>\n",
       "      <td>Greenville</td>\n",
       "      <td>8 - 10 years</td>\n",
       "      <td>5-7 years</td>\n",
       "      <td>College degree</td>\n",
       "      <td>Woman</td>\n",
       "      <td>White</td>\n",
       "    </tr>\n",
       "  </tbody>\n",
       "</table>\n",
       "</div>"
      ],
      "text/plain": [
       "            Timestamp How old are you?  What industry do you work in?  \\\n",
       "0  4/27/2021 11:02:10            25-34   Education (Higher Education)   \n",
       "1  4/27/2021 11:02:22            25-34              Computing or Tech   \n",
       "2  4/27/2021 11:02:38            25-34  Accounting, Banking & Finance   \n",
       "3  4/27/2021 11:02:41            25-34                     Nonprofits   \n",
       "4  4/27/2021 11:02:42            25-34  Accounting, Banking & Finance   \n",
       "\n",
       "                                  Job title  \\\n",
       "0        Research and Instruction Librarian   \n",
       "1  Change & Internal Communications Manager   \n",
       "2                      Marketing Specialist   \n",
       "3                           Program Manager   \n",
       "4                        Accounting Manager   \n",
       "\n",
       "  If your job title needs additional context, please clarify here:  \\\n",
       "0                                                NaN                 \n",
       "1                                                NaN                 \n",
       "2                                                NaN                 \n",
       "3                                                NaN                 \n",
       "4                                                NaN                 \n",
       "\n",
       "  What is your annual salary? (You'll indicate the currency in a later question. If you are part-time or hourly, please enter an annualized equivalent -- what you would earn if you worked the job 40 hours a week, 52 weeks a year.)  \\\n",
       "0                                             55,000                                                                                                                                                                                     \n",
       "1                                             54,600                                                                                                                                                                                     \n",
       "2                                             34,000                                                                                                                                                                                     \n",
       "3                                             62,000                                                                                                                                                                                     \n",
       "4                                             60,000                                                                                                                                                                                     \n",
       "\n",
       "   How much additional monetary compensation do you get, if any (for example, bonuses or overtime in an average year)? Please only include monetary compensation here, not the value of benefits.  \\\n",
       "0                                                0.0                                                                                                                                                \n",
       "1                                             4000.0                                                                                                                                                \n",
       "2                                                NaN                                                                                                                                                \n",
       "3                                             3000.0                                                                                                                                                \n",
       "4                                             7000.0                                                                                                                                                \n",
       "\n",
       "  Please indicate the currency  \\\n",
       "0                          USD   \n",
       "1                          GBP   \n",
       "2                          USD   \n",
       "3                          USD   \n",
       "4                          USD   \n",
       "\n",
       "  If \"Other,\" please indicate the currency here:   \\\n",
       "0                                             NaN   \n",
       "1                                             NaN   \n",
       "2                                             NaN   \n",
       "3                                             NaN   \n",
       "4                                             NaN   \n",
       "\n",
       "  If your income needs additional context, please provide it here:  \\\n",
       "0                                                NaN                 \n",
       "1                                                NaN                 \n",
       "2                                                NaN                 \n",
       "3                                                NaN                 \n",
       "4                                                NaN                 \n",
       "\n",
       "  What country do you work in?  \\\n",
       "0                United States   \n",
       "1               United Kingdom   \n",
       "2                           US   \n",
       "3                          USA   \n",
       "4                           US   \n",
       "\n",
       "  If you're in the U.S., what state do you work in? What city do you work in?  \\\n",
       "0                                     Massachusetts                    Boston   \n",
       "1                                               NaN                 Cambridge   \n",
       "2                                         Tennessee               Chattanooga   \n",
       "3                                         Wisconsin                 Milwaukee   \n",
       "4                                    South Carolina                Greenville   \n",
       "\n",
       "  How many years of professional work experience do you have overall?  \\\n",
       "0                                          5-7 years                    \n",
       "1                                       8 - 10 years                    \n",
       "2                                        2 - 4 years                    \n",
       "3                                       8 - 10 years                    \n",
       "4                                       8 - 10 years                    \n",
       "\n",
       "  How many years of professional work experience do you have in your field?  \\\n",
       "0                                          5-7 years                          \n",
       "1                                          5-7 years                          \n",
       "2                                        2 - 4 years                          \n",
       "3                                          5-7 years                          \n",
       "4                                          5-7 years                          \n",
       "\n",
       "  What is your highest level of education completed? What is your gender?  \\\n",
       "0                                    Master's degree                Woman   \n",
       "1                                     College degree           Non-binary   \n",
       "2                                     College degree                Woman   \n",
       "3                                     College degree                Woman   \n",
       "4                                     College degree                Woman   \n",
       "\n",
       "  What is your race? (Choose all that apply.)  \n",
       "0                                       White  \n",
       "1                                       White  \n",
       "2                                       White  \n",
       "3                                       White  \n",
       "4                                       White  "
      ]
     },
     "execution_count": 47,
     "metadata": {},
     "output_type": "execute_result"
    }
   ],
   "source": [
    "original_data.head()"
   ]
  }
 ],
 "metadata": {
  "kernelspec": {
   "display_name": "Python 3",
   "language": "python",
   "name": "python3"
  },
  "language_info": {
   "codemirror_mode": {
    "name": "ipython",
    "version": 3
   },
   "file_extension": ".py",
   "mimetype": "text/x-python",
   "name": "python",
   "nbconvert_exporter": "python",
   "pygments_lexer": "ipython3",
   "version": "3.11.9"
  }
 },
 "nbformat": 4,
 "nbformat_minor": 2
}
